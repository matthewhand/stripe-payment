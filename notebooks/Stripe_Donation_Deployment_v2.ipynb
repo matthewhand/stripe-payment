{
  "nbformat": 4,
  "nbformat_minor": 5,
  "metadata": {
    "noteable-chatgpt": {
      "create_notebook": {
        "openai_conversation_id": "feeb3173-7904-5a47-b1bb-1581e12d7f78",
        "openai_ephemeral_user_id": "d7c77d78-fd66-51c2-b57f-f214a5bb657e",
        "openai_subdivision1_iso_code": "AU-ACT"
      }
    },
    "noteable": {
      "last_transaction_id": "3a73506e-b33e-480f-bb6f-c3820ab1235e"
    },
    "selected_hardware_size": "small"
  },
  "cells": [
    {
      "id": "08ea9bf9-01b4-4580-b2be-c5b4ebef6143",
      "cell_type": "code",
      "metadata": {
        "jupyter": {
          "outputs_hidden": false,
          "source_hidden": false
        },
        "noteable": {
          "cell_type": "code"
        }
      },
      "execution_count": null,
      "source": "",
      "outputs": []
    },
    {
      "id": "9817e950-5e93-424f-8ca4-607fc5da6fe8",
      "cell_type": "markdown",
      "source": "# Stripe Donation Deployment\n\nIn this notebook, we will implement the steps to deploy a Stripe donation system using Next.js and Vercel. The system will include a Stripe Checkout page with a Donation product that has three price options: 5.0, 20.0, and 50.0 AUD.",
      "metadata": {
        "jupyter": {
          "outputs_hidden": false,
          "source_hidden": false
        },
        "noteable": {
          "cell_type": "markdown"
        }
      }
    },
    {
      "id": "77e77697-17a0-48d7-8e15-d41ee73d7369",
      "cell_type": "code",
      "metadata": {
        "jupyter": {
          "outputs_hidden": false,
          "source_hidden": false
        },
        "noteable": {
          "cell_type": "code",
          "output_collection_id": "47adcccd-4cf6-44cc-87af-0fb81b43df19"
        },
        "ExecuteTime": {
          "end_time": "2023-05-26T08:40:38.915434+00:00",
          "start_time": "2023-05-26T08:40:38.281645+00:00"
        }
      },
      "execution_count": null,
      "source": "# Import necessary libraries\nimport os\nimport stripe\n\n# Set up Stripe API with the Stripe API key\nstripe.api_key = os.getenv('STRIPE_API_KEY')\n\n# Verify setup\ntry:\n    stripe.Account.retrieve()\n    print('Stripe API set up successfully.')\nexcept:\n    print('Failed to set up Stripe API.')",
      "outputs": []
    },
    {
      "id": "f454809e-6052-4970-829e-426690228faa",
      "cell_type": "code",
      "metadata": {
        "jupyter": {
          "outputs_hidden": false,
          "source_hidden": false
        },
        "noteable": {
          "cell_type": "code",
          "output_collection_id": "4cda4633-394e-4102-81c4-33aa543384c6"
        },
        "ExecuteTime": {
          "end_time": "2023-05-26T08:40:56.118375+00:00",
          "start_time": "2023-05-26T08:40:50.814010+00:00"
        }
      },
      "execution_count": null,
      "source": "!pip install stripe",
      "outputs": []
    },
    {
      "id": "7ecbcfe5-ed6c-4743-a0df-14b9163d4462",
      "cell_type": "code",
      "metadata": {
        "jupyter": {
          "outputs_hidden": false,
          "source_hidden": false
        },
        "noteable": {
          "cell_type": "code",
          "output_collection_id": "d1818ad8-ef93-4003-89cb-15b23d2d2116"
        },
        "ExecuteTime": {
          "end_time": "2023-05-26T08:41:18.680104+00:00",
          "start_time": "2023-05-26T08:41:18.165985+00:00"
        }
      },
      "execution_count": null,
      "source": "# Import necessary libraries\nimport os\nimport stripe\n\n# Set up Stripe API with the Stripe API key\nstripe.api_key = os.getenv('STRIPE_API_KEY')\n\n# Verify setup\ntry:\n    stripe.Account.retrieve()\n    print('Stripe API set up successfully.')\nexcept:\n    print('Failed to set up Stripe API.')",
      "outputs": []
    },
    {
      "id": "58419292-14a0-4b74-886d-5a979920af97",
      "cell_type": "markdown",
      "source": "## Step 1: Create a Checkout Session\n\nWe will create a Checkout Session with the one-time price ID for the Donation product. The price options will be 5.0, 20.0, and 50.0 AUD.",
      "metadata": {
        "jupyter": {
          "outputs_hidden": false,
          "source_hidden": false
        },
        "noteable": {
          "cell_type": "markdown"
        }
      }
    },
    {
      "id": "9b56f711-748d-44d4-b7d2-826429e25e8d",
      "cell_type": "code",
      "metadata": {
        "jupyter": {
          "outputs_hidden": false,
          "source_hidden": false
        },
        "noteable": {
          "cell_type": "code",
          "output_collection_id": "37667375-b59c-4d26-a88e-46050a12141f"
        },
        "ExecuteTime": {
          "end_time": "2023-05-26T08:42:29.376395+00:00",
          "start_time": "2023-05-26T08:42:29.217425+00:00"
        }
      },
      "execution_count": null,
      "source": "    price_ids = [price['id'] for price in prices['data']]\n\n    # Create the Checkout Session\n    checkout_session = stripe.checkout.Session.create(\n        payment_method_types=['card'],\n        line_items=[\n            {\n                'price': price_id,\n                'quantity': 1,\n            } for price_id in price_ids\n        ],\n        mode='payment',\n        success_url='https://example.com/success',\n        cancel_url='https://example.com/cancel',\n    )\n    print('Checkout Session created successfully.')\nexcept Exception as e:\n    print(f'Failed to create Checkout Session: {e}')",
      "outputs": []
    },
    {
      "id": "2757fd36-9d05-43e2-aa87-6fd91e82ad1b",
      "cell_type": "markdown",
      "source": "## Step 2: Create One-Time Prices\n\nThe error message indicates that we are using recurring prices for a payment session. We need to create one-time prices for the Donation product. The price options will be 5.0, 20.0, and 50.0 AUD.",
      "metadata": {
        "jupyter": {
          "outputs_hidden": false,
          "source_hidden": false
        },
        "noteable": {
          "cell_type": "markdown"
        }
      }
    },
    {
      "id": "8726ab2b-c5e2-468b-b208-2f2171587643",
      "cell_type": "code",
      "metadata": {
        "jupyter": {
          "outputs_hidden": false,
          "source_hidden": false
        },
        "noteable": {
          "cell_type": "code",
          "output_collection_id": "dc6a61b9-82a1-45c2-b2f8-0af8a84b22af"
        },
        "ExecuteTime": {
          "end_time": "2023-05-26T08:43:11.492346+00:00",
          "start_time": "2023-05-26T08:43:11.335127+00:00"
        }
      },
      "execution_count": null,
      "source": "# Create one-time prices for the Donation product\ntry:\n    # Define the price options\n    price_options = [500, 2000, 5000]  # In cents\n\n    # Create the prices\n    for price_option in price_options:\n        stripe.Price.create(\n            product=product_id,\n            unit_amount=price_option,\n            currency='aud',\n        )\n    print('One-time prices created successfully.')\nexcept Exception as e:\n    print(f'Failed to create one-time prices: {e}')",
      "outputs": []
    },
    {
      "id": "512f8c96-e237-4687-be1d-99f5038a755c",
      "cell_type": "code",
      "metadata": {
        "jupyter": {
          "outputs_hidden": false,
          "source_hidden": false
        },
        "noteable": {
          "cell_type": "code",
          "output_collection_id": "0a2d9f8e-28ae-4dba-ab44-4cf70d7a5a17"
        },
        "ExecuteTime": {
          "end_time": "2023-05-26T08:43:52.678419+00:00",
          "start_time": "2023-05-26T08:43:51.666274+00:00"
        }
      },
      "execution_count": null,
      "source": "# Retrieve the product\nproducts = stripe.Product.list(limit=1)\nproduct_id = products['data'][0]['id']\n\n# Create one-time prices for the Donation product\ntry:\n    # Define the price options\n    price_options = [500, 2000, 5000]  # In cents\n\n    # Create the prices\n    for price_option in price_options:\n        stripe.Price.create(\n            product=product_id,\n            unit_amount=price_option,\n            currency='aud',\n        )\n    print('One-time prices created successfully.')\nexcept Exception as e:\n    print(f'Failed to create one-time prices: {e}')",
      "outputs": []
    },
    {
      "id": "fb7d670e-a330-4143-818e-57088c352653",
      "cell_type": "markdown",
      "source": "## Step 3: Create a Checkout Session with One-Time Prices\n\nNow that we have created one-time prices for the Donation product, we will create a Checkout Session with these prices.",
      "metadata": {
        "jupyter": {
          "outputs_hidden": false,
          "source_hidden": false
        },
        "noteable": {
          "cell_type": "markdown"
        }
      }
    },
    {
      "id": "8b056ff6-54ee-4eac-bd0d-6b26c951e2c2",
      "cell_type": "code",
      "metadata": {
        "jupyter": {
          "outputs_hidden": false,
          "source_hidden": false
        },
        "noteable": {
          "cell_type": "code",
          "output_collection_id": "ce67fb87-a418-4b89-b239-8c07c1e0c1da"
        },
        "ExecuteTime": {
          "end_time": "2023-05-26T08:44:47.423658+00:00",
          "start_time": "2023-05-26T08:44:46.379239+00:00"
        }
      },
      "execution_count": null,
      "source": "# Create a Checkout Session with the one-time price ID for the Donation product\ntry:\n    # Retrieve the product\n    products = stripe.Product.list(limit=1)\n    product_id = products['data'][0]['id']\n\n    # Retrieve the prices\n    prices = stripe.Price.list(product=product_id, limit=3)\n    price_ids = [price['id'] for price in prices['data']]\n\n    # Create the Checkout Session\n    checkout_session = stripe.checkout.Session.create(\n        payment_method_types=['card'],\n        line_items=[\n            {\n                'price': price_id,\n                'quantity': 1,\n            } for price_id in price_ids\n        ],\n        mode='payment',\n        success_url='https://example.com/success',\n        cancel_url='https://example.com/cancel',\n    )\n    print('Checkout Session created successfully.')\nexcept Exception as e:\n    print(f'Failed to create Checkout Session: {e}')",
      "outputs": []
    },
    {
      "id": "3309ba54-d7e2-421c-8f57-d23707f4dedf",
      "cell_type": "markdown",
      "source": "## Step 4: Deploy to Vercel\n\nNow that we have created a Checkout Session with one-time prices for the Donation product, we will deploy the Next.js application to Vercel. This will involve the following steps:\n\n1. Clone the Next.js application from the GitHub repository.\n2. Replace the Stripe public key and Checkout Session ID in the application code.\n3. Deploy the application to Vercel using the Vercel API.",
      "metadata": {
        "jupyter": {
          "outputs_hidden": false,
          "source_hidden": false
        },
        "noteable": {
          "cell_type": "markdown"
        }
      }
    },
    {
      "id": "229b689c-4f9c-4e66-a55a-4504cd127d2e",
      "cell_type": "code",
      "metadata": {
        "jupyter": {
          "outputs_hidden": false,
          "source_hidden": false
        },
        "noteable": {
          "cell_type": "code",
          "output_collection_id": "9ba98792-e7ba-42a5-a1ec-d7c8f262c56a"
        },
        "ExecuteTime": {
          "end_time": "2023-05-26T08:45:26.004424+00:00",
          "start_time": "2023-05-26T08:45:25.848066+00:00"
        }
      },
      "execution_count": null,
      "source": "# Import necessary libraries\nimport os\nimport requests\nimport json\n\n# Define the Vercel API URL and headers\nvercel_api_url = 'https://api.vercel.com/v12/now/deployments'\nheaders = {\n    'Authorization': f'Bearer {os.getenv(\"VERCEL_API_KEY\")}',\n    'Content-Type': 'application/json'\n}",
      "outputs": []
    },
    {
      "id": "17aa4dbe-4f18-43f5-a5f2-b2822434d7ed",
      "cell_type": "code",
      "metadata": {
        "jupyter": {
          "outputs_hidden": false,
          "source_hidden": false
        },
        "noteable": {
          "cell_type": "code",
          "output_collection_id": "d489e3a9-279c-4ad9-b1f8-6c82e6e06b1a"
        },
        "ExecuteTime": {
          "end_time": "2023-05-26T08:45:55.810878+00:00",
          "start_time": "2023-05-26T08:45:55.652968+00:00"
        }
      },
      "execution_count": null,
      "source": "# Define the deployment configuration\ndeployment_config = {\n    'name': 'stripe-donation',\n    'files': [],  # To be populated with the application files\n    'env': {\n        'STRIPE_PUBLIC_KEY': os.getenv(\"STRIPE_PUBLIC_KEY\"),\n        'CHECKOUT_SESSION_ID': checkout_session['id']\n    },\n    'build': {\n        'env': {\n            'STRIPE_PUBLIC_KEY': os.getenv(\"STRIPE_PUBLIC_KEY\"),\n            'CHECKOUT_SESSION_ID': checkout_session['id']\n        }\n    },\n    'projectSettings': {\n        'framework': 'nextjs'\n    }\n}",
      "outputs": []
    },
    {
      "id": "1d6b51be-f6d9-49ff-a7e8-c3e2f4a2deea",
      "cell_type": "code",
      "metadata": {
        "jupyter": {
          "outputs_hidden": false,
          "source_hidden": false
        },
        "noteable": {
          "cell_type": "code",
          "output_collection_id": "75eef214-4c94-4c70-9d92-f084b0d2db3e"
        },
        "ExecuteTime": {
          "end_time": "2023-05-26T08:46:18.588417+00:00",
          "start_time": "2023-05-26T08:46:18.205664+00:00"
        }
      },
      "execution_count": null,
      "source": "# Deploy the application to Vercel\ntry:\n    response = requests.post(vercel_api_url, headers=headers, data=json.dumps(deployment_config))\n    response.raise_for_status()\n    print('Application deployed successfully.')\nexcept Exception as e:\n    print(f'Failed to deploy application: {e}')",
      "outputs": []
    }
  ]
}