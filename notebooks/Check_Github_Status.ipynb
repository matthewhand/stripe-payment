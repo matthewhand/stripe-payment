{
  "nbformat": 4,
  "nbformat_minor": 5,
  "metadata": {
    "noteable-chatgpt": {
      "create_notebook": {
        "openai_conversation_id": "feeb3173-7904-5a47-b1bb-1581e12d7f78",
        "openai_ephemeral_user_id": "d7c77d78-fd66-51c2-b57f-f214a5bb657e",
        "openai_subdivision1_iso_code": "AU-ACT"
      }
    },
    "noteable": {
      "last_transaction_id": "967f2958-7978-44d4-a1c3-3a6a1b3b2727"
    },
    "selected_hardware_size": "small"
  },
  "cells": [
    {
      "id": "d9dba56a-bf2c-4cc6-aff8-e398e42826cf",
      "cell_type": "code",
      "metadata": {
        "jupyter": {
          "outputs_hidden": false,
          "source_hidden": false
        },
        "noteable": {
          "cell_type": "code",
          "output_collection_id": "129ae9b8-83ec-4a4a-8e31-18b67d982ad2"
        },
        "ExecuteTime": {
          "end_time": "2023-05-26T11:24:37.242731+00:00",
          "start_time": "2023-05-26T11:24:36.633483+00:00"
        }
      },
      "execution_count": null,
      "source": "import os\nimport subprocess\n\ndef run_command(command):\n    process = subprocess.Popen(command, stdout=subprocess.PIPE, shell=True)\n    output, error = process.communicate()\n    return output.decode('utf-8'), error\n\n# Change directory to the cloned repository\nos.chdir('stripe-payment')\n\n# Check the status of the repository\noutput, error = run_command('git status')\noutput",
      "outputs": []
    },
    {
      "id": "0ef5c333-07a0-4865-8973-38a5a81abda4",
      "cell_type": "code",
      "metadata": {
        "jupyter": {
          "outputs_hidden": false,
          "source_hidden": false
        },
        "noteable": {
          "cell_type": "code",
          "output_collection_id": "5527329b-c43e-409e-aa2b-2724867ca743"
        },
        "ExecuteTime": {
          "end_time": "2023-05-26T11:25:05.939794+00:00",
          "start_time": "2023-05-26T11:25:05.674190+00:00"
        }
      },
      "execution_count": null,
      "source": "import os\nimport subprocess\n\ndef run_command(command):\n    process = subprocess.Popen(command, stdout=subprocess.PIPE, shell=True)\n    output, error = process.communicate()\n    return output.decode('utf-8'), error\n\n# Clone the repository\noutput, error = run_command('git clone https://github.com/matthewhand/stripe-payment.git')\noutput",
      "outputs": []
    },
    {
      "id": "1b5cec9a-c5f2-4536-bca2-29f77654e719",
      "cell_type": "code",
      "metadata": {
        "jupyter": {
          "outputs_hidden": false,
          "source_hidden": false
        },
        "noteable": {
          "cell_type": "code",
          "output_collection_id": "a5db7b53-1123-491a-bb70-d11015a6bf0e"
        },
        "ExecuteTime": {
          "end_time": "2023-05-26T11:25:34.962733+00:00",
          "start_time": "2023-05-26T11:25:34.783075+00:00"
        }
      },
      "execution_count": null,
      "source": "from github import Github\n\n# First create a Github instance:\n# using an access token\ng = Github(os.getenv('GITHUB_TOKEN'))\n\n# Then get your repository\nrepo = g.get_user().get_repo('stripe-payment')\n\n# Get the contents of the repository\ncontents = repo.get_contents('')\n\n# Print the names of the files in the repository\n[file.name for file in contents]",
      "outputs": []
    },
    {
      "id": "a844b7ee-466f-42f1-b085-4ad87bba9483",
      "cell_type": "code",
      "metadata": {
        "jupyter": {
          "outputs_hidden": false,
          "source_hidden": false
        },
        "noteable": {
          "cell_type": "code",
          "output_collection_id": "84d4cb77-b8c1-403f-bbd7-e64a9195e95b"
        },
        "ExecuteTime": {
          "end_time": "2023-05-26T11:27:55.448564+00:00",
          "start_time": "2023-05-26T11:27:50.503089+00:00"
        }
      },
      "execution_count": null,
      "source": "!pip install PyGithub",
      "outputs": []
    },
    {
      "id": "919da94f-36b6-45e5-bf68-1999fdd52b5a",
      "cell_type": "code",
      "metadata": {
        "jupyter": {
          "outputs_hidden": false,
          "source_hidden": false
        },
        "noteable": {
          "cell_type": "code",
          "output_collection_id": "7e6d5ef5-1a9a-4215-ba58-43aa8859b424"
        },
        "ExecuteTime": {
          "end_time": "2023-05-26T11:28:20.340498+00:00",
          "start_time": "2023-05-26T11:28:19.632033+00:00"
        }
      },
      "execution_count": null,
      "source": "from github import Github\n\n# First create a Github instance:\n# using an access token\ng = Github(os.getenv('GITHUB_TOKEN'))\n\n# Then get your repository\nrepo = g.get_user().get_repo('stripe-payment')\n\n# Get the contents of the repository\ncontents = repo.get_contents('')\n\n# Print the names of the files in the repository\n[file.name for file in contents]",
      "outputs": []
    }
  ]
}