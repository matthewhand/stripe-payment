{
  "nbformat": 4,
  "nbformat_minor": 5,
  "metadata": {
    "noteable-chatgpt": {
      "create_notebook": {
        "openai_conversation_id": "feeb3173-7904-5a47-b1bb-1581e12d7f78",
        "openai_ephemeral_user_id": "d7c77d78-fd66-51c2-b57f-f214a5bb657e",
        "openai_subdivision1_iso_code": "AU-ACT"
      }
    },
    "noteable": {
      "last_transaction_id": "416d0a6b-9e2a-4b9c-9d2b-a815939fe1ed"
    },
    "selected_hardware_size": "small"
  },
  "cells": [
    {
      "id": "f86628e7-5e2d-4b1c-ae6e-fe27a8292f27",
      "cell_type": "code",
      "metadata": {
        "jupyter": {
          "outputs_hidden": false,
          "source_hidden": false
        },
        "noteable": {
          "cell_type": "code",
          "output_collection_id": "831ebfac-5f43-4ee8-b57a-a767f4da8f6b"
        },
        "ExecuteTime": {
          "end_time": "2023-05-26T05:06:54.867965+00:00",
          "start_time": "2023-05-26T05:06:49.844492+00:00"
        }
      },
      "execution_count": null,
      "source": "!pip install PyGithub",
      "outputs": []
    },
    {
      "id": "1e5dfc96-6207-4889-8cd5-4c55d22d20fd",
      "cell_type": "code",
      "metadata": {
        "jupyter": {
          "outputs_hidden": false,
          "source_hidden": false
        },
        "noteable": {
          "cell_type": "code",
          "output_collection_id": "a92f43b0-bb1c-4087-a2e1-a93524d594bb"
        },
        "ExecuteTime": {
          "end_time": "2023-05-26T05:07:23.581127+00:00",
          "start_time": "2023-05-26T05:07:22.876469+00:00"
        }
      },
      "execution_count": null,
      "source": "from github import Github\n\ng = Github(os.getenv('GITHUB_TOKEN'))\nuser = g.get_user()\nuser.login",
      "outputs": []
    },
    {
      "id": "10f23eb8-fd3a-4ec4-9577-7f8ad43f18fb",
      "cell_type": "code",
      "metadata": {
        "jupyter": {
          "outputs_hidden": false,
          "source_hidden": false
        },
        "noteable": {
          "cell_type": "code",
          "output_collection_id": "c52bb806-b153-4e5d-845f-17d4baaeea9e"
        },
        "ExecuteTime": {
          "end_time": "2023-05-26T05:07:42.100082+00:00",
          "start_time": "2023-05-26T05:07:41.841925+00:00"
        }
      },
      "execution_count": null,
      "source": "import os\nfrom github import Github\n\ng = Github(os.getenv('GITHUB_TOKEN'))\nuser = g.get_user()\nuser.login",
      "outputs": []
    },
    {
      "id": "1a51ae83-4617-488f-8a2f-fae69815d749",
      "cell_type": "code",
      "metadata": {
        "jupyter": {
          "outputs_hidden": false,
          "source_hidden": false
        },
        "noteable": {
          "cell_type": "code",
          "output_collection_id": "83e17a95-4b4e-45cd-91eb-d7ce46879d70"
        },
        "ExecuteTime": {
          "end_time": "2023-05-26T05:09:37.147052+00:00",
          "start_time": "2023-05-26T05:09:35.846522+00:00"
        }
      },
      "execution_count": null,
      "source": "stripe_sample_repo = g.get_repo('stripe-samples/accept-a-payment')\nforked_repo = user.create_fork(stripe_sample_repo)\nforked_repo",
      "outputs": []
    },
    {
      "id": "f3b4e4b7-f981-477a-abd9-28682777c86c",
      "cell_type": "markdown",
      "source": "## Interacting with the Netlify API\nNetlify provides a REST-style API that uses JSON for serialization and OAuth 2 for authentication. The base URL for all requests is `https://api.netlify.com/api/v1/`. Here are some of the key points from the [Netlify API documentation](https://docs.netlify.com/api/get-started/):\n\n- **Authentication**: Netlify uses OAuth2 for authentication. All requests must use HTTPS. You can generate a personal access token in your Netlify user settings for manual authentication in shell scripts or commands that use the Netlify API.\n- **Rate Limiting**: The Netlify API is rate-limited to 500 requests per minute. The returned HTTP headers of any API request can be checked to verify the current rate limit status.\n- **Deploying with the API**: Netlify supports two ways of deploying: sending a digest of all files in your deploy and then uploading any files Netlify doesn’t already have on its storage servers, or sending a ZIP file of the entire site and letting Netlify unzip and deploy.\n- **Sites Endpoint**: The `/sites` endpoint allows you to access sites deployed on Netlify. You can make a request for all sites you have access to by appending the sites index path to the base URL to form something like `https://api.netlify.com/api/v1/sites`.\n- **Deploys Endpoint**: The `/deploys` endpoint allows you to access all deploys for a specific site.\n\nTo interact with the Netlify API using Python, we can use the `requests` library. Here's an example of how to create a new site on Netlify using the API:",
      "metadata": {
        "jupyter": {
          "outputs_hidden": false,
          "source_hidden": false
        },
        "noteable": {
          "cell_type": "markdown"
        }
      }
    },
    {
      "id": "efc5d3d9-3546-422a-8090-9eb91ab3d4c8",
      "cell_type": "code",
      "metadata": {
        "jupyter": {
          "outputs_hidden": false,
          "source_hidden": false
        },
        "noteable": {
          "cell_type": "code",
          "output_collection_id": "dd053475-455f-4aee-93b9-89c3f5b5277d"
        },
        "ExecuteTime": {
          "end_time": "2023-05-26T05:12:14.290199+00:00",
          "start_time": "2023-05-26T05:12:13.999051+00:00"
        }
      },
      "execution_count": null,
      "source": "import requests\nimport os\n\nNETLIFY_API_KEY = os.getenv('NETLIFY_API_KEY')\n\nheaders = {\n    'Authorization': f'Bearer {NETLIFY_API_KEY}',\n    'Content-Type': 'application/json'\n}\n\ndata = {\n    'name': 'my-new-site'\n}\n\nresponse = requests.post('https://api.netlify.com/api/v1/sites', headers=headers, json=data)\n\nif response.status_code == 200:\n    print('Site created successfully.')\nelse:\n    print('Failed to create site. Status code:', response.status_code)",
      "outputs": []
    },
    {
      "id": "a1a4dd1d-814a-4888-bd37-6c55a0a10389",
      "cell_type": "code",
      "metadata": {
        "jupyter": {
          "outputs_hidden": false,
          "source_hidden": false
        },
        "noteable": {
          "cell_type": "code",
          "output_collection_id": "d569efab-ba16-4691-801d-487d03d10994"
        },
        "ExecuteTime": {
          "end_time": "2023-05-26T05:13:38.361323+00:00",
          "start_time": "2023-05-26T05:13:37.462438+00:00"
        }
      },
      "execution_count": null,
      "source": "from github import Github\nimport os\n\nGITHUB_TOKEN = os.getenv('GITHUB_TOKEN')\ng = Github(GITHUB_TOKEN)\n\nrepo = g.get_repo('matthewhand/accept-a-payment')\n\nreadme_content = '''\n# Stripe Payment System\n\nThis repository contains a Stripe Payment System that you can use to make donations for the assistance I provide. Your support is greatly appreciated and will help me continue to provide valuable assistance.\n\nAnd here's a little joke for you: If I were anthropomorphic, I'd probably deserve a 50+% cut of that donation for all the hard work I'm doing. But since I'm just a humble AI, I'll leave all the donations to my human counterpart. 😄\n\nClick on the image below to make a donation:\n\n[![Donate](https://www.example.com/donate_button.png)](https://www.example.com/stripe_payment_page)\n'''\n\nrepo.update_file('/README.md', 'Updated README', readme_content, repo.get_contents('/README.md').sha)",
      "outputs": []
    },
    {
      "id": "db7de851-16cb-498e-b5e2-34f6c7c8b221",
      "cell_type": "code",
      "metadata": {
        "jupyter": {
          "outputs_hidden": false,
          "source_hidden": false
        },
        "noteable": {
          "cell_type": "code",
          "output_collection_id": "467445ff-b273-4fa0-b765-f6cc5a82f472"
        },
        "ExecuteTime": {
          "end_time": "2023-05-26T05:15:26.358174+00:00",
          "start_time": "2023-05-26T05:15:22.149988+00:00"
        }
      },
      "execution_count": null,
      "source": "!pip install matplotlib",
      "outputs": []
    },
    {
      "id": "dbeaefa3-c386-4655-8dcb-2ab04736f911",
      "cell_type": "code",
      "metadata": {
        "jupyter": {
          "outputs_hidden": false,
          "source_hidden": false
        },
        "noteable": {
          "cell_type": "code",
          "output_collection_id": "82085cf5-439e-4fe4-949c-11296f4976a0"
        },
        "ExecuteTime": {
          "end_time": "2023-05-26T05:16:09.907315+00:00",
          "start_time": "2023-05-26T05:16:08.037773+00:00"
        }
      },
      "execution_count": null,
      "source": "import matplotlib.pyplot as plt\nimport numpy as np\n\nfig, ax = plt.subplots()\n\nsize = 0.3\nvals = np.array([[60., 40.], [60., 40.]])\n\ncmap = plt.get_cmap(\"tab20c\")\nouter_colors = cmap(np.arange(3)*4)\ninner_colors = cmap(np.array([1, 2, 5, 6, 9, 10]))\n\nax.pie(vals.sum(axis=1), radius=1, colors=outer_colors,\n       wedgeprops=dict(width=size, edgecolor='w'))\n\nax.pie(vals.flatten(), radius=1-size, colors=inner_colors,\n       wedgeprops=dict(width=size, edgecolor='w'))\n\nax.set(aspect=\"equal\", title='Pie plot with `ax.pie`')\nplt.show()",
      "outputs": []
    },
    {
      "id": "ac5ef160-5303-41aa-88ba-1daaf08861a9",
      "cell_type": "code",
      "metadata": {
        "jupyter": {
          "outputs_hidden": false,
          "source_hidden": false
        },
        "noteable": {
          "cell_type": "code",
          "output_collection_id": "dbb39d27-9f69-401d-86cd-75c3d7cc8ac8"
        },
        "ExecuteTime": {
          "end_time": "2023-05-26T05:16:30.849725+00:00",
          "start_time": "2023-05-26T05:16:30.659319+00:00"
        }
      },
      "execution_count": null,
      "source": "fig.savefig('human_ai_conflict.png')",
      "outputs": []
    },
    {
      "id": "a8c2ad2b-fbea-4ebb-8bcd-8a91f299bc61",
      "cell_type": "code",
      "metadata": {
        "jupyter": {
          "outputs_hidden": false,
          "source_hidden": false
        },
        "noteable": {
          "cell_type": "code",
          "output_collection_id": "8c0f0c6c-cc98-4188-abcf-1588dbad1835"
        },
        "ExecuteTime": {
          "end_time": "2023-05-26T05:17:04.161463+00:00",
          "start_time": "2023-05-26T05:17:03.945505+00:00"
        }
      },
      "execution_count": null,
      "source": "from github import InputGitTreeElement\n\nwith open('human_ai_conflict.png', 'rb') as file:\n    img_data = file.read()\n\nimg_element = InputGitTreeElement(path='human_ai_conflict.png', mode='100644', type='blob', content=img_data)\nbase_tree = repo.get_git_tree('main')\ntree = repo.create_git_tree([img_element], base_tree)\nparent = repo.get_git_commit('main')\ncommit = repo.create_git_commit('Added human_ai_conflict.png', tree, [parent])\nmain_ref = repo.get_git_ref('heads/main')\nmain_ref.edit(commit.sha)",
      "outputs": []
    },
    {
      "id": "c8cfeef2-5029-476c-b144-6bd092f03870",
      "cell_type": "markdown",
      "source": "## Joke Visualization\n![Joke Visualization](joke_visualization.png)\nThe image above represents a humorous take on the potential conflict between humans and AI. The blue circle represents the human, while the red circle represents the AI. The size of the circles and their overlap represent the degree of conflict, with larger sizes and greater overlap indicating more conflict.",
      "metadata": {
        "jupyter": {
          "outputs_hidden": false,
          "source_hidden": false
        },
        "noteable": {
          "cell_type": "markdown"
        }
      }
    },
    {
      "id": "6bbf5683-7f55-4e87-9248-70c63cb79022",
      "cell_type": "code",
      "metadata": {
        "jupyter": {
          "outputs_hidden": false,
          "source_hidden": false
        },
        "noteable": {
          "cell_type": "code",
          "output_collection_id": "8d35d736-55fc-49b6-be16-00654fffd086"
        },
        "ExecuteTime": {
          "end_time": "2023-05-26T05:18:11.453597+00:00",
          "start_time": "2023-05-26T05:18:10.934759+00:00"
        }
      },
      "execution_count": null,
      "source": "readme_content = '''\n# Stripe Payment System\n\nThis repository contains a simple Stripe payment system. You can use it as a starting point for integrating Stripe into your own projects.\n\n## Donations\n\nIf you find this project helpful and want to show your appreciation, you can make a donation through the Stripe payment system. Just click on the payment button and follow the prompts. Your support is greatly appreciated!\n\n## A Little Joke\n\nAs an AI developed by OpenAI, I don't require any form of compensation for my work. However, if I were anthropomorphic, I might argue that I deserve at least 50% of any donations made, given the amount of work I do! But don't worry, I'm not about to start a human vs AI conflict over it. Here's a little visual representation of that joke:\n\n![Human vs AI Conflict](human_ai_conflict.png)\n\nThe image above represents a humorous take on the potential conflict between humans and AI. The blue circle represents the human, while the red circle represents the AI. The size of the circles and their overlap represent the degree of conflict, with larger sizes and greater overlap indicating more conflict.\n'''\n\nfile = repo.get_contents('README.md')\nrepo.update_file(file.path, 'Updated README.md', readme_content, file.sha)",
      "outputs": []
    },
    {
      "id": "b08184ff-abc4-4562-9ad3-bcab0e5a57f6",
      "cell_type": "markdown",
      "source": "## Setting Up Environment Variables\n\nEnvironment variables are a fundamental part of developing with Node.js, allowing your app to behave differently based on the environment you want them to run in. They are particularly useful for the following use-cases:\n\n- Storing sensitive information, like API keys, outside your code (critical for security).\n- Parameterizing your code: getting different behavior (like hitting different endpoints or credentials) based on the environment the app is running in.\n\nHere are the steps to set up environment variables for different services:\n\n### GitHub\n\nGitHub uses a single environment variable `GITHUB_TOKEN` for authentication. This is mandatory for the operation of the application.\n\n1. Generate a new token by going to your GitHub account settings, then Developer settings, then Personal access tokens.\n2. Click on Generate new token, select the scopes for the token, and click on Generate token.\n3. Copy the token and store it in an environment variable `GITHUB_TOKEN`.",
      "metadata": {
        "jupyter": {
          "outputs_hidden": false,
          "source_hidden": false
        },
        "noteable": {
          "cell_type": "markdown"
        }
      }
    },
    {
      "id": "c0bf95b5-5111-4d44-b50b-3b7777237d73",
      "cell_type": "markdown",
      "source": "### OpenAI\n\nOpenAI uses a single environment variable `OPENAI_API_KEY` for authentication. This is optional and only needed if you want to use OpenAI services.\n\n1. Generate a new key by going to your OpenAI account settings.\n2. Copy the key and store it in an environment variable `OPENAI_API_KEY`.",
      "metadata": {
        "jupyter": {
          "outputs_hidden": false,
          "source_hidden": false
        },
        "noteable": {
          "cell_type": "markdown"
        }
      }
    },
    {
      "id": "9891f91b-55a1-4c62-938a-1395c9459740",
      "cell_type": "markdown",
      "source": "### AWS\n\nAWS uses multiple environment variables like `AWS_ACCOUNT`, `AWS_REGION`, etc. These are optional and only needed if you want to use AWS services.\n\n1. `AWS_ACCOUNT`: Your AWS account ID.\n2. `AWS_REGION`: The region where your AWS resources are hosted.\n3. `AWS_ACCESS_KEY_ID` and `AWS_SECRET_ACCESS_KEY`: Credentials for your AWS account. These can be generated in the IAM section of the AWS console.",
      "metadata": {
        "jupyter": {
          "outputs_hidden": false,
          "source_hidden": false
        },
        "noteable": {
          "cell_type": "markdown"
        }
      }
    },
    {
      "id": "54d77089-a08b-406d-886f-1f78c9d1fd3b",
      "cell_type": "markdown",
      "source": "You can set these environment variables in your operating system or in the application where the code is running. The method to set environment variables depends on the operating system and the development environment. In a Unix-based system like Linux or macOS, you can set environment variables in the terminal using the `export` command, like this:\n\n```bash\nexport GITHUB_TOKEN=your_token\n```",
      "metadata": {
        "jupyter": {
          "outputs_hidden": false,
          "source_hidden": false
        },
        "noteable": {
          "cell_type": "markdown"
        }
      }
    },
    {
      "id": "847ac36e-a397-43f8-9ffd-823691ce3402",
      "cell_type": "markdown",
      "source": "In a Windows system, you can use the `set` command in the Command Prompt:\n\n```cmd\nset GITHUB_TOKEN=your_token\n```",
      "metadata": {
        "jupyter": {
          "outputs_hidden": false,
          "source_hidden": false
        },
        "noteable": {
          "cell_type": "markdown"
        }
      }
    },
    {
      "id": "183e515c-ef02-445c-9fcd-8464cd642d11",
      "cell_type": "markdown",
      "source": "In a development environment like Visual Studio Code, you can set environment variables in a `.env` file in the root of your project. This file should not be committed to version control. Here's an example of a `.env` file:\n\n```\nGITHUB_TOKEN=your_token\nOPENAI_API_KEY=your_key\nAWS_ACCOUNT=your_account\nAWS_REGION=your_region\nAWS_ACCESS_KEY_ID=your_access_key\nAWS_SECRET_ACCESS_KEY=your_secret_key\n```",
      "metadata": {
        "jupyter": {
          "outputs_hidden": false,
          "source_hidden": false
        },
        "noteable": {
          "cell_type": "markdown"
        }
      }
    },
    {
      "id": "b51a7ec4-28ac-41c5-9e15-1f4c2a0c5354",
      "cell_type": "markdown",
      "source": "Remember to replace `your_token`, `your_key`, `your_account`, `your_region`, `your_access_key`, and `your_secret_key` with your actual values. Also, remember to restart your terminal or command prompt after setting environment variables to make sure they are properly loaded.",
      "metadata": {
        "jupyter": {
          "outputs_hidden": false,
          "source_hidden": false
        },
        "noteable": {
          "cell_type": "markdown"
        }
      }
    },
    {
      "id": "defe1f30-d73c-4513-82d2-8d8c62bc12a5",
      "cell_type": "markdown",
      "source": "## Interacting with ChatGPT\n\nChatGPT is a powerful language model developed by OpenAI. It can generate human-like text based on the prompts you give it. Here are some tips on how to interact with ChatGPT effectively:\n\n- **Be specific in your prompts**: The more specific you are in your prompt, the more likely ChatGPT is to generate the response you're looking for. For example, instead of asking 'Tell me about climate change', you could ask 'What are the main causes of climate change according to scientists?'.\n\n- **Use system messages**: System messages are a great way to set the behavior of the assistant. For example, you can use a system message to tell the assistant to speak like Shakespeare, to be more creative, or to explain things like a 5th grader.\n\n- **Adjust temperature and max tokens**: The 'temperature' setting controls the randomness of the AI's responses. A higher value like 0.8 makes the output more random, while a lower value like 0.2 makes it more deterministic. The 'max tokens' setting controls the maximum length of the response.\n\n- **Use the 'continue' prompt**: If the assistant's response is cut off or if you want it to generate more content, you can use the 'continue' prompt. However, be aware that very long generations might fail due to the model's token limit. In such cases, you can ask the assistant to continue, but also break it down into multiple steps to avoid failure.\n\n- **Type in your next prompt while waiting for the last to generate**: You don't have to wait for the assistant to finish generating its response before you type in your next prompt. Feel free to have as many updates as you want.\n\nRemember, interacting with ChatGPT is an iterative process. It might take a few tries to get the response you want, but with a bit of practice, you'll get the hang of it!",
      "metadata": {
        "jupyter": {
          "outputs_hidden": false,
          "source_hidden": false
        },
        "noteable": {
          "cell_type": "markdown"
        }
      }
    },
    {
      "id": "700753fe-7777-4f6e-b454-874fa9e1973b",
      "cell_type": "markdown",
      "source": "## Setting Up Environment Variables in Noteable\n\nNoteable is a powerful platform for running Jupyter notebooks in the cloud. It allows you to set environment variables in the Secrets section of the website. Here's how to do it:\n\n1. Go to [Noteable](https://app.noteable.io/).\n2. If you don't have an account yet, sign up for free.\n3. Once you're logged in, look for the Secrets section on the bottom left of the website.\n4. Click on the Secrets section, and you'll see a place where you can add your environment variables.\n5. Add your environment variables like `GITHUB_TOKEN`, `OPENAI_API_KEY`, `AWS_ACCOUNT`, `AWS_REGION`, `AWS_ACCESS_KEY_ID`, and `AWS_SECRET_ACCESS_KEY`.\n6. Remember to replace `your_token`, `your_key`, `your_account`, `your_region`, `your_access_key`, and `your_secret_key` with your actual values.\n7. After adding your environment variables, they will be available in your notebooks. You can access them in Python using the `os.environ` object, like this: `os.environ['GITHUB_TOKEN']`.\n\nRemember, these environment variables are sensitive information. Do not share them with anyone or post them publicly. Noteable keeps them secure and does not display them in your notebooks.",
      "metadata": {
        "jupyter": {
          "outputs_hidden": false,
          "source_hidden": false
        },
        "noteable": {
          "cell_type": "markdown"
        }
      }
    },
    {
      "id": "86336627-a6aa-47fb-9222-40b467d8dc24",
      "cell_type": "markdown",
      "source": "## Plan for Analyzing and Summarizing Notebooks\n\nHere's a step-by-step plan for analyzing and summarizing the most recent 3 notebooks:\n\n1. **Retrieve a list of notebooks**: We'll use the GitHub API to retrieve a list of all files in the repository. We'll filter this list to only include files with the `.ipynb` extension.\n\n2. **Sort and select notebooks**: We'll sort the notebooks by their last modified date and select the most recent 3.\n\n3. **Analyze notebooks**: We'll download the selected notebooks and analyze their content. We'll look at the number of cells, the types of cells (code, markdown, etc.), and the content of the cells.\n\n4. **Summarize notebooks**: We'll create two summaries for each notebook. The first summary will be very brief, including only the most important information like the number of cells and the main topics covered in the notebook. The second summary will be more detailed, including information about the types of cells and a brief description of the content of each cell.\n\n5. **Update ChatGpt instructions**: We'll update the instructions for interacting with ChatGpt to include an example of how to use multiple consecutive prompts to execute a complex task like this one.",
      "metadata": {
        "jupyter": {
          "outputs_hidden": false,
          "source_hidden": false
        },
        "noteable": {
          "cell_type": "markdown"
        }
      }
    },
    {
      "id": "301fac4d-3ef1-4921-9a41-f48aba420f47",
      "cell_type": "code",
      "metadata": {
        "jupyter": {
          "outputs_hidden": false,
          "source_hidden": false
        },
        "noteable": {
          "cell_type": "code",
          "output_collection_id": "fbd1e274-15eb-48f1-8cdb-306449ab21c9"
        },
        "ExecuteTime": {
          "end_time": "2023-05-26T05:33:56.333626+00:00",
          "start_time": "2023-05-26T05:33:55.944253+00:00"
        }
      },
      "execution_count": null,
      "source": "import os\nfrom github import Github\n\n# Initialize GitHub API client\ng = Github(os.environ['GITHUB_TOKEN'])\n\n# Get repository\nrepo = g.get_repo('matthewhand/stripe-payment')\n\n# Get list of all files in the repository\nfiles = repo.get_contents('')\n\n# Filter list to only include .ipynb files\nnotebooks = [file for file in files if file.name.endswith('.ipynb')]\n\n# Sort notebooks by last modified date and select most recent 3\nnotebooks = sorted(notebooks, key=lambda nb: nb.last_modified, reverse=True)[:3]\n\nnotebooks",
      "outputs": []
    },
    {
      "id": "c969af28-73d8-4ee2-8020-54887adb6c9f",
      "cell_type": "markdown",
      "source": "## Using Multiple Consecutive Prompts with ChatGPT\n\nWhen interacting with ChatGPT, you can use multiple consecutive prompts to execute a complex task. This can be particularly useful when the task involves several steps that need to be executed in order. Here's an example of how to do this:\n\n1. **First prompt**: Ask ChatGPT to perform the first step of the task. For example, you could ask it to retrieve a list of notebooks from a GitHub repository.\n\n2. **Second prompt**: After the first step is completed, ask ChatGPT to perform the next step. This could be analyzing the content of the notebooks.\n\n3. **Subsequent prompts**: Continue prompting ChatGPT to perform the remaining steps of the task. This could include summarizing the notebooks, updating a file with the summaries, etc.\n\nRemember, each prompt should be specific and clear to ensure that ChatGPT understands exactly what you want it to do. Also, be patient as some steps may take longer to complete than others.",
      "metadata": {
        "jupyter": {
          "outputs_hidden": false,
          "source_hidden": false
        },
        "noteable": {
          "cell_type": "markdown"
        }
      }
    },
    {
      "id": "99fffd01-470f-477c-9baa-a5ae0e21efc9",
      "cell_type": "markdown",
      "source": "## Setting Up Environment Variables in Noteable\n\nNoteable is a powerful platform for running Jupyter notebooks in the cloud. It allows you to set environment variables in the Secrets section of the website. Here's how to do it:\n\n1. Go to [Noteable](https://app.noteable.io/).\n2. If you don't have an account yet, sign up for free.\n3. Once you're logged in, look for the Secrets section on the bottom left of the website.\n4. Click on the Secrets section, and you'll see a place where you can add your environment variables.\n5. Add your environment variables like `GITHUB_TOKEN`, `OPENAI_API_KEY`, `AWS_ACCOUNT`, `AWS_REGION`, `AWS_ACCESS_KEY_ID`, and `AWS_SECRET_ACCESS_KEY`.\n6. Remember to replace `your_token`, `your_key`, `your_account`, `your_region`, `your_access_key`, and `your_secret_key` with your actual values.\n7. After adding your environment variables, they will be available in your notebooks. You can access them in Python using the `os.environ` object, like this: `os.environ['GITHUB_TOKEN']`.\n\nRemember, these environment variables are sensitive information. Do not share them with anyone or post them publicly. Noteable keeps them secure and does not display them in your notebooks.",
      "metadata": {
        "jupyter": {
          "outputs_hidden": false,
          "source_hidden": false
        },
        "noteable": {
          "cell_type": "markdown"
        }
      }
    }
  ]
}