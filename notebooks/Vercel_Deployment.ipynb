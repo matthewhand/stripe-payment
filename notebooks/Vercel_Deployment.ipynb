{
  "nbformat": 4,
  "nbformat_minor": 5,
  "metadata": {
    "noteable-chatgpt": {
      "create_notebook": {
        "openai_conversation_id": "feeb3173-7904-5a47-b1bb-1581e12d7f78",
        "openai_ephemeral_user_id": "d7c77d78-fd66-51c2-b57f-f214a5bb657e",
        "openai_subdivision1_iso_code": "AU-ACT"
      }
    },
    "noteable": {
      "last_transaction_id": "3ad86ad8-0009-49f0-8a3b-a802a6e467d3"
    },
    "selected_hardware_size": "small"
  },
  "cells": [
    {
      "id": "92ae3cfa-9539-4941-8f42-730f5b2193d0",
      "cell_type": "markdown",
      "source": "# Deploying Next.js with TypeScript and Stripe Checkout to Vercel\n\nIn this notebook, we will follow the guide from Vercel on setting up a Next.js project with TypeScript and Stripe Checkout and deploying it to Vercel. The steps include:\n\n1. Setting Up a TypeScript Project with Next.js\n2. Managing API Keys with Next.js & Vercel\n3. Loading Stripe.js\n4. Creating a CheckoutSession and Redirecting to Stripe Checkout\n5. Handling Webhooks & Checking Their Signatures\n6. Deploying with Vercel",
      "metadata": {
        "jupyter": {
          "outputs_hidden": false,
          "source_hidden": false
        },
        "noteable": {
          "cell_type": "markdown"
        }
      }
    },
    {
      "id": "6d88e290-1eea-4bfa-a970-5b9682be4084",
      "cell_type": "markdown",
      "source": "## Step 1: Setting Up a TypeScript Project with Next.js\n\nWe will start by setting up a TypeScript project with Next.js. This involves creating a new Next.js project with TypeScript configuration. However, since we are working in a Jupyter notebook, we won't be able to run the `create-next-app` command directly. Instead, we will clone a pre-configured Next.js TypeScript project from a GitHub repository.",
      "metadata": {
        "jupyter": {
          "outputs_hidden": false,
          "source_hidden": false
        },
        "noteable": {
          "cell_type": "markdown"
        }
      }
    },
    {
      "id": "8ce239c0-6480-4931-8c4e-d2e330e98bb0",
      "cell_type": "code",
      "metadata": {
        "jupyter": {
          "outputs_hidden": false,
          "source_hidden": false
        },
        "noteable": {
          "cell_type": "code",
          "output_collection_id": "ede16858-85f9-4730-b95a-cf735c807e2f"
        },
        "ExecuteTime": {
          "end_time": "2023-05-26T08:54:28.929164+00:00",
          "start_time": "2023-05-26T08:54:28.311929+00:00"
        }
      },
      "execution_count": null,
      "source": "# Import necessary libraries\nfrom github import Github\nimport os\n\n# Initialize Github with the provided token\ng = Github(os.getenv('GITHUB_TOKEN'))\n\n# Get the repository\nrepo = g.get_repo('vercel/next.js')\n\n# Get the contents of the 'examples/with-stripe' directory\ncontents = repo.get_contents('examples/with-stripe')\n\n# Print the contents\nfor content in contents:\n    print(content)",
      "outputs": []
    },
    {
      "id": "0374b7b6-41fe-4dec-a113-1d40adc9eb9b",
      "cell_type": "code",
      "metadata": {
        "jupyter": {
          "outputs_hidden": false,
          "source_hidden": false
        },
        "noteable": {
          "cell_type": "code",
          "output_collection_id": "d1b474e5-895a-4802-bc4d-949043c9234e"
        },
        "ExecuteTime": {
          "end_time": "2023-05-26T08:54:50.003750+00:00",
          "start_time": "2023-05-26T08:54:45.010715+00:00"
        }
      },
      "execution_count": null,
      "source": "!pip install PyGithub",
      "outputs": []
    },
    {
      "id": "1d5fa343-c57e-4c35-a88a-248908f7ede5",
      "cell_type": "code",
      "metadata": {
        "jupyter": {
          "outputs_hidden": false,
          "source_hidden": false
        },
        "noteable": {
          "cell_type": "code",
          "output_collection_id": "c5591eeb-e325-4632-8957-96baf962fdc7"
        },
        "ExecuteTime": {
          "end_time": "2023-05-26T08:55:23.957796+00:00",
          "start_time": "2023-05-26T08:55:23.010649+00:00"
        }
      },
      "execution_count": null,
      "source": "# Import necessary libraries\nfrom github import Github\nimport os\n\n# Initialize Github with the provided token\ng = Github(os.getenv('GITHUB_TOKEN'))\n\n# Get the repository\nrepo = g.get_repo('vercel/next.js')\n\n# Get the contents of the 'examples/with-stripe' directory\ncontents = repo.get_contents('examples/with-stripe')\n\n# Print the contents\nfor content in contents:\n    print(content)",
      "outputs": []
    },
    {
      "id": "c86f718d-6d99-40c9-a31b-8c18b61f32e3",
      "cell_type": "code",
      "metadata": {
        "jupyter": {
          "outputs_hidden": false,
          "source_hidden": false
        },
        "noteable": {
          "cell_type": "code"
        }
      },
      "execution_count": null,
      "source": "# Get the contents of the 'examples' directory\ncontents = repo.get_contents('examples')\n\n# Print the contents\nfor content in contents:\n    print(content)",
      "outputs": []
    },
    {
      "id": "822e3cf3-7a22-49fc-8584-2ff5995a3030",
      "cell_type": "code",
      "metadata": {
        "jupyter": {
          "outputs_hidden": false,
          "source_hidden": false
        },
        "noteable": {
          "cell_type": "code",
          "output_collection_id": "7a5c4eb8-4a3b-472f-b082-064ec078e51a"
        },
        "ExecuteTime": {
          "end_time": "2023-05-26T08:56:27.823306+00:00",
          "start_time": "2023-05-26T08:56:27.486651+00:00"
        }
      },
      "execution_count": null,
      "source": "# Get the contents of the 'examples' directory\ncontents = repo.get_contents('examples')\n\n# Print the contents\nfor content in contents:\n    print(content)",
      "outputs": []
    },
    {
      "id": "be04d6f6-034c-4372-9481-c4d935f4ecc8",
      "cell_type": "code",
      "metadata": {
        "jupyter": {
          "outputs_hidden": false,
          "source_hidden": false
        },
        "noteable": {
          "cell_type": "code",
          "output_collection_id": "8a6f1850-fd22-41bd-bc56-ad0e1ec8c4f4"
        },
        "ExecuteTime": {
          "end_time": "2023-05-26T08:56:55.019455+00:00",
          "start_time": "2023-05-26T08:56:54.759226+00:00"
        }
      },
      "execution_count": null,
      "source": "# Get the contents of the 'examples/with-stripe-typescript' directory\ncontents = repo.get_contents('examples/with-stripe-typescript')\n\n# Print the contents\nfor content in contents:\n    print(content)",
      "outputs": []
    },
    {
      "id": "23c6e235-f39d-4c83-86d1-b6fb251fc882",
      "cell_type": "markdown",
      "source": "## Step 2: Managing API Keys with Next.js & Vercel\n\nNext, we need to manage our API keys. We will be using the Stripe API, so we need to provide our Stripe API key. We will also need to provide our Vercel API key for deployment. These keys should be stored securely and not exposed in our code. We will use environment variables for this purpose.\n\nIn Next.js, we can add environment variables in the `.env.local` file in the root of our project. This file is not tracked by Git, so our keys will not be exposed in our repository. We can access these variables in our code using `process.env`.\n\nIn Vercel, we can add environment variables in the project settings. These variables will be provided to our application at build time.",
      "metadata": {
        "jupyter": {
          "outputs_hidden": false,
          "source_hidden": false
        },
        "noteable": {
          "cell_type": "markdown"
        }
      }
    },
    {
      "id": "3a9c9f33-357a-442c-9575-99bec44b0495",
      "cell_type": "markdown",
      "source": "```jsx\nfunction MyApp({ Component, pageProps }) {\n  return (\n    <>\n      <Head>\n        <script src=\"https://js.stripe.com/v3/\" async></script>\n      </Head>\n      <Component {...pageProps} />\n    </>\n  )\n}\n\nexport default MyApp\n```\n\nThis code will load Stripe.js asynchronously, so it won't block the rendering of our application.",
      "metadata": {
        "jupyter": {
          "outputs_hidden": false,
          "source_hidden": false
        },
        "noteable": {
          "cell_type": "markdown"
        }
      }
    },
    {
      "id": "5abe0a2a-5923-4211-993d-7a4b10c894d0",
      "cell_type": "markdown",
      "source": "## Step 4: Creating a CheckoutSession and Redirecting to Stripe Checkout\n\nNext, we need to create a CheckoutSession and redirect the user to Stripe Checkout. We will do this in two steps:\n\n1. **Creating a CheckoutSession:** We will create a serverless function in Next.js that creates a CheckoutSession using the Stripe API. This function will be called when the user clicks on the 'Donate Now' button.\n\n2. **Redirecting to Stripe Checkout:** After the CheckoutSession is created, we will redirect the user to Stripe Checkout. We will do this in the frontend using the Stripe.js library.",
      "metadata": {
        "jupyter": {
          "outputs_hidden": false,
          "source_hidden": false
        },
        "noteable": {
          "cell_type": "markdown"
        }
      }
    },
    {
      "id": "bec832d1-c413-4239-8f1e-a38cda8f2325",
      "cell_type": "markdown",
      "source": "### Creating a CheckoutSession\n\nWe will create a serverless function in Next.js that creates a CheckoutSession. This function will be called when the user clicks on the 'Donate Now' button.\n\nIn Next.js, any file inside the `pages/api` directory is mapped to `/api/*` and will be treated as an API endpoint instead of a page. We can write server-side code in these files. This is perfect for our use case, as we need to create a server-side function to create a CheckoutSession.\n\nWe will create a new file in the `pages/api` directory called `create-checkout-session.js`. In this file, we will write a function that creates a CheckoutSession using the Stripe API.",
      "metadata": {
        "jupyter": {
          "outputs_hidden": false,
          "source_hidden": false
        },
        "noteable": {
          "cell_type": "markdown"
        }
      }
    },
    {
      "id": "d73aae31-ec20-40ad-9cb6-e3417c1f4a0e",
      "cell_type": "markdown",
      "source": "### Redirecting to Stripe Checkout\n\nAfter the CheckoutSession is created, we need to redirect the user to Stripe Checkout. We will do this in the frontend using the Stripe.js library.\n\nWe will add the following code in our frontend:\n\n```jsx\nconst stripe = Stripe(process.env.NEXT_PUBLIC_STRIPE_PUBLIC_KEY);\n\nconst handleClick = async (event) => {\n  // Call your backend to create the Checkout Session\n  const response = await fetch('/api/create-checkout-session', { method: 'POST' });\n  const session = await response.json();\n\n  // When the customer clicks on the button, redirect them to Checkout.\n  const result = await stripe.redirectToCheckout({\n    sessionId: session.id,\n  });\n\n  if (result.error) {\n    // If `redirectToCheckout` fails due to a browser or network\n    // error, display the localized error message to your customer\n    // using `result.error.message`.\n    alert(result.error.message);\n  }\n};\n\n<button role=\"link\" onClick={handleClick}>Donate Now</button>\n```\n\nThis code will call our `create-checkout-session` API when the 'Donate Now' button is clicked, and then redirect the user to Stripe Checkout with the created CheckoutSession.",
      "metadata": {
        "jupyter": {
          "outputs_hidden": false,
          "source_hidden": false
        },
        "noteable": {
          "cell_type": "markdown"
        }
      }
    },
    {
      "id": "986869cc-1a14-410f-a139-bd48f13dd970",
      "cell_type": "markdown",
      "source": "## Step 5: Handling Webhooks & Checking Their Signatures\n\nStripe uses webhooks to notify your application when an event happens in your account. Webhooks are particularly useful for asynchronous events like when a customer’s bank confirms a payment, a customer disputes a charge, or a recurring payment succeeds.\n\nIn our case, we will need to handle the `checkout.session.completed` event. This event is triggered when a customer completes the payment and returns to our application.\n\nWe will create another serverless function in Next.js to handle this webhook. This function will be called by Stripe when the `checkout.session.completed` event occurs.\n\nIn addition to handling the webhook, we also need to check the webhook signature to ensure that the webhook is actually sent by Stripe and not by a malicious third party. We can do this using the Stripe Node.js library.",
      "metadata": {
        "jupyter": {
          "outputs_hidden": false,
          "source_hidden": false
        },
        "noteable": {
          "cell_type": "markdown"
        }
      }
    },
    {
      "id": "384d0681-f43e-4dea-b9c4-8ad2ffea8e17",
      "cell_type": "markdown",
      "source": "## Step 6: Deploying with Vercel\n\nFinally, we will deploy our Next.js application to Vercel. Vercel is a cloud platform for static sites and Serverless Functions that fits perfectly with Next.js.\n\nWe will need to provide our environment variables (Stripe API key and Vercel API key) in the Vercel dashboard. These variables will be provided to our application at build time.\n\nWe will also need to add our webhook endpoint to the Stripe dashboard so that Stripe knows where to send the webhook events.",
      "metadata": {
        "jupyter": {
          "outputs_hidden": false,
          "source_hidden": false
        },
        "noteable": {
          "cell_type": "markdown"
        }
      }
    },
    {
      "id": "e4431753-16a1-4be1-baa2-74652f482b8c",
      "cell_type": "markdown",
      "source": "## Setting Up the Next.js Project\n\nFirst, we need to clone the 'with-stripe-typescript' example from the 'vercel/next.js' repository. You can do this by running the following command in your local environment:\n\n```bash\nnpx create-next-app@latest --example with-stripe-typescript with-stripe-typescript-app\n```\n\nThis command will create a new Next.js application in a directory called 'with-stripe-typescript-app'. The application will be based on the 'with-stripe-typescript' example.\n\nAfter running this command, you should have a new directory called 'with-stripe-typescript-app' that contains the Next.js application.",
      "metadata": {
        "jupyter": {
          "outputs_hidden": false,
          "source_hidden": false
        },
        "noteable": {
          "cell_type": "markdown"
        }
      }
    }
  ]
}