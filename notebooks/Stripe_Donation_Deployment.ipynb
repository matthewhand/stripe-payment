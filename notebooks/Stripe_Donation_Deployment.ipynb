{
  "nbformat": 4,
  "nbformat_minor": 5,
  "metadata": {
    "noteable-chatgpt": {
      "create_notebook": {
        "openai_conversation_id": "feeb3173-7904-5a47-b1bb-1581e12d7f78",
        "openai_ephemeral_user_id": "d7c77d78-fd66-51c2-b57f-f214a5bb657e",
        "openai_subdivision1_iso_code": "AU-ACT"
      }
    },
    "noteable": {
      "last_transaction_id": "c87a908b-c843-42b1-aae3-8cf03c7638e8"
    },
    "selected_hardware_size": "small"
  },
  "cells": [
    {
      "id": "a5cd680e-86e7-4a77-870b-e456b6056374",
      "cell_type": "markdown",
      "source": "# Stripe Donation Deployment\n\nIn this notebook, we will implement the steps to deploy a Stripe donation system using Next.js and Vercel. The system will include a Stripe Checkout page with a Donation product that has three price options: 5.0, 20.0, and 50.0 AUD.",
      "metadata": {
        "jupyter": {
          "outputs_hidden": false,
          "source_hidden": false
        },
        "noteable": {
          "cell_type": "markdown"
        }
      }
    },
    {
      "id": "6453a47f-5e3a-4126-8f58-f7bf544fae79",
      "cell_type": "code",
      "metadata": {
        "jupyter": {
          "outputs_hidden": false,
          "source_hidden": false
        },
        "noteable": {
          "cell_type": "code",
          "output_collection_id": "19ed03f4-8cc1-4552-9b05-4422eec13a73"
        },
        "ExecuteTime": {
          "end_time": "2023-05-26T08:32:39.509677+00:00",
          "start_time": "2023-05-26T08:32:38.905555+00:00"
        }
      },
      "execution_count": null,
      "source": "# Import necessary libraries\nimport os\nimport stripe\n\n# Set up Stripe API with the Stripe API key\nstripe.api_key = os.getenv('STRIPE_API_KEY')\n\n# Verify setup\ntry:\n    stripe.Account.retrieve()\n    print('Stripe API set up successfully.')\nexcept:\n    print('Failed to set up Stripe API.')",
      "outputs": []
    },
    {
      "id": "dbf9c41b-71e9-4198-99b2-0ae268e170cc",
      "cell_type": "code",
      "metadata": {
        "jupyter": {
          "outputs_hidden": false,
          "source_hidden": false
        },
        "noteable": {
          "cell_type": "code",
          "output_collection_id": "dbbe620e-5b75-4950-a4a7-217e1ee4697a"
        },
        "ExecuteTime": {
          "end_time": "2023-05-26T08:32:54.476164+00:00",
          "start_time": "2023-05-26T08:32:49.572107+00:00"
        }
      },
      "execution_count": null,
      "source": "!pip install stripe",
      "outputs": []
    },
    {
      "id": "5fc7fd4c-568e-48f9-a923-84717d139429",
      "cell_type": "code",
      "metadata": {
        "jupyter": {
          "outputs_hidden": false,
          "source_hidden": false
        },
        "noteable": {
          "cell_type": "code",
          "output_collection_id": "6b042d37-aa46-4dc6-b755-94ecf6dd59f8"
        },
        "ExecuteTime": {
          "end_time": "2023-05-26T08:33:14.767383+00:00",
          "start_time": "2023-05-26T08:33:14.282196+00:00"
        }
      },
      "execution_count": null,
      "source": "# Import necessary libraries\nimport os\nimport stripe\n\n# Set up Stripe API with the Stripe API key\nstripe.api_key = os.getenv('STRIPE_API_KEY')\n\n# Verify setup\ntry:\n    stripe.Account.retrieve()\n    print('Stripe API set up successfully.')\nexcept:\n    print('Failed to set up Stripe API.')",
      "outputs": []
    },
    {
      "id": "c4b0a1a8-cd63-47a8-abca-bdf679bbe773",
      "cell_type": "markdown",
      "source": "## Step 1: Create a Checkout Session\n\nWe will create a Checkout Session with the one-time price ID for the Donation product. The price options will be 5.0, 20.0, and 50.0 AUD.",
      "metadata": {
        "jupyter": {
          "outputs_hidden": false,
          "source_hidden": false
        },
        "noteable": {
          "cell_type": "markdown"
        }
      }
    },
    {
      "id": "9ca9a936-f015-4ef2-9d44-a82cc5508302",
      "cell_type": "code",
      "metadata": {
        "jupyter": {
          "outputs_hidden": false,
          "source_hidden": false
        },
        "noteable": {
          "cell_type": "code",
          "output_collection_id": "c127e928-6d83-4bd0-9989-424b43e76066"
        },
        "ExecuteTime": {
          "end_time": "2023-05-26T08:34:11.596275+00:00",
          "start_time": "2023-05-26T08:34:10.939150+00:00"
        }
      },
      "execution_count": null,
      "source": "# Create a Checkout Session with the one-time price ID for the Donation product\ntry:\n    # Retrieve the product\n    products = stripe.Product.list(limit=1)\n    product_id = products['data'][0]['id']\n\n    # Retrieve the prices\n    prices = stripe.Price.list(product=product_id, limit=3)\n    price_ids = [price['id'] for price in prices['data']]\n\n    # Create the Checkout Session\n    checkout_session = stripe.checkout.Session.create(\n        payment_method_types=['card'],\n        line_items=[\n            {\n                'price': price_id,\n                'quantity': 1,\n            } for price_id in price_ids\n        ],\n        mode='payment',\n        success_url='https://example.com/success',\n        cancel_url='https://example.com/cancel',\n    )\n    print('Checkout Session created successfully.')\nexcept Exception as e:\n    print(f'Failed to create Checkout Session: {e}')",
      "outputs": []
    },
    {
      "id": "64637c44-c537-4112-a00f-f6a73403f51e",
      "cell_type": "markdown",
      "source": "## Step 2: Create One-Time Prices\n\nThe error message indicates that we are using recurring prices for a payment session. We need to create one-time prices for the Donation product. The price options will be 5.0, 20.0, and 50.0 AUD.",
      "metadata": {
        "jupyter": {
          "outputs_hidden": false,
          "source_hidden": false
        },
        "noteable": {
          "cell_type": "markdown"
        }
      }
    },
    {
      "id": "5318ac61-b028-4d7b-8633-f937ba2b13e7",
      "cell_type": "code",
      "metadata": {
        "jupyter": {
          "outputs_hidden": false,
          "source_hidden": false
        },
        "noteable": {
          "cell_type": "code",
          "output_collection_id": "ec613620-f66c-48a9-8c01-b9b002fa0826"
        },
        "ExecuteTime": {
          "end_time": "2023-05-26T08:34:55.047438+00:00",
          "start_time": "2023-05-26T08:34:54.196803+00:00"
        }
      },
      "execution_count": null,
      "source": "# Create one-time prices for the Donation product\ntry:\n    # Define the price options\n    price_options = [500, 2000, 5000]  # In cents\n\n    # Create the prices\n    for price_option in price_options:\n        stripe.Price.create(\n            product=product_id,\n            unit_amount=price_option,\n            currency='aud',\n        )\n    print('One-time prices created successfully.')\nexcept Exception as e:\n    print(f'Failed to create one-time prices: {e}')",
      "outputs": []
    },
    {
      "id": "0f10008d-9c29-425d-bcf3-9152f18c63b5",
      "cell_type": "markdown",
      "source": "## Step 3: Create a Checkout Session with One-Time Prices\n\nNow that we have created one-time prices for the Donation product, we will create a Checkout Session with these prices.",
      "metadata": {
        "jupyter": {
          "outputs_hidden": false,
          "source_hidden": false
        },
        "noteable": {
          "cell_type": "markdown"
        }
      }
    },
    {
      "id": "4c2d3f94-66fe-470d-9b8a-72259fdbcd5a",
      "cell_type": "code",
      "metadata": {
        "jupyter": {
          "outputs_hidden": false,
          "source_hidden": false
        },
        "noteable": {
          "cell_type": "code",
          "output_collection_id": "8a882293-8056-47c5-a193-2890cb498815"
        },
        "ExecuteTime": {
          "end_time": "2023-05-26T08:35:49.168778+00:00",
          "start_time": "2023-05-26T08:35:48.076657+00:00"
        }
      },
      "execution_count": null,
      "source": "# Create a Checkout Session with the one-time price ID for the Donation product\ntry:\n    # Retrieve the product\n    products = stripe.Product.list(limit=1)\n    product_id = products['data'][0]['id']\n\n    # Retrieve the prices\n    prices = stripe.Price.list(product=product_id, limit=3)\n    price_ids = [price['id'] for price in prices['data']]\n\n    # Create the Checkout Session\n    checkout_session = stripe.checkout.Session.create(\n        payment_method_types=['card'],\n        line_items=[\n            {\n                'price': price_id,\n                'quantity': 1,\n            } for price_id in price_ids\n        ],\n        mode='payment',\n        success_url='https://example.com/success',\n        cancel_url='https://example.com/cancel',\n    )\n    print('Checkout Session created successfully.')\nexcept Exception as e:\n    print(f'Failed to create Checkout Session: {e}')",
      "outputs": []
    },
    {
      "id": "8f78ad1f-f852-4917-b601-43c7d7fc277a",
      "cell_type": "markdown",
      "source": "## Step 4: Deploy to Vercel\n\nNow that we have created a Checkout Session with one-time prices for the Donation product, we will deploy the Next.js application to Vercel. This will involve the following steps:\n\n1. Clone the Next.js application from the GitHub repository.\n2. Replace the Stripe public key and Checkout Session ID in the application code.\n3. Deploy the application to Vercel using the Vercel API.",
      "metadata": {
        "jupyter": {
          "outputs_hidden": false,
          "source_hidden": false
        },
        "noteable": {
          "cell_type": "markdown"
        }
      }
    },
    {
      "id": "70210fd1-88a6-4c87-814d-7f33b166e0c4",
      "cell_type": "code",
      "metadata": {
        "jupyter": {
          "outputs_hidden": false,
          "source_hidden": false
        },
        "noteable": {
          "cell_type": "code",
          "output_collection_id": "35551354-c18a-48e9-970c-0cc58fad7251"
        },
        "ExecuteTime": {
          "end_time": "2023-05-26T08:37:32.080515+00:00",
          "start_time": "2023-05-26T08:37:31.921904+00:00"
        }
      },
      "execution_count": null,
      "source": "    'projectSettings': {\n        'framework': 'nextjs'\n    }\n}\n\n# Deploy the application to Vercel\ntry:\n    response = requests.post(vercel_api_url, headers=headers, data=json.dumps(deployment_config))\n    response.raise_for_status()\n    print('Application deployed successfully.')\nexcept Exception as e:\n    print(f'Failed to deploy application: {e}')",
      "outputs": []
    },
    {
      "id": "e8006c7f-79ba-4646-acf3-812991821435",
      "cell_type": "code",
      "metadata": {
        "jupyter": {
          "outputs_hidden": false,
          "source_hidden": false
        },
        "noteable": {
          "cell_type": "code",
          "output_collection_id": "e41a69db-b304-40a4-838f-9f8e0e7bc115"
        },
        "ExecuteTime": {
          "end_time": "2023-05-26T08:38:07.225370+00:00",
          "start_time": "2023-05-26T08:38:07.067644+00:00"
        }
      },
      "execution_count": null,
      "source": "# Define the Vercel API URL and headers\nvercel_api_url = 'https://api.vercel.com/v12/now/deployments'\nheaders = {\n    'Authorization': f'Bearer {os.getenv(\"VERCEL_API_KEY\")}',\n    'Content-Type': 'application/json'\n}",
      "outputs": []
    },
    {
      "id": "ef5668b6-314d-4888-ba5d-afce582bf6b3",
      "cell_type": "code",
      "metadata": {
        "jupyter": {
          "outputs_hidden": false,
          "source_hidden": false
        },
        "noteable": {
          "cell_type": "code",
          "output_collection_id": "8fb10b38-20b3-450d-b8aa-f4dafc5d1313"
        },
        "ExecuteTime": {
          "end_time": "2023-05-26T08:38:37.465409+00:00",
          "start_time": "2023-05-26T08:38:37.307046+00:00"
        }
      },
      "execution_count": null,
      "source": "# Define the deployment configuration\ndeployment_config = {\n    'name': 'stripe-donation',\n    'files': [],  # To be populated with the application files\n    'env': {\n        'STRIPE_PUBLIC_KEY': os.getenv(\"STRIPE_PUBLIC_KEY\"),\n        'CHECKOUT_SESSION_ID': checkout_session['id']\n    },\n    'build': {\n        'env': {\n            'STRIPE_PUBLIC_KEY': os.getenv(\"STRIPE_PUBLIC_KEY\"),\n            'CHECKOUT_SESSION_ID': checkout_session['id']\n        }\n    },\n    'projectSettings': {\n        'framework': 'nextjs'\n    }\n}",
      "outputs": []
    },
    {
      "id": "9a55f2ae-f758-4b63-975a-78324780e0b2",
      "cell_type": "code",
      "metadata": {
        "jupyter": {
          "outputs_hidden": false,
          "source_hidden": false
        },
        "noteable": {
          "cell_type": "code",
          "output_collection_id": "093fd505-3913-499b-bbce-5b9f0231d297"
        },
        "ExecuteTime": {
          "end_time": "2023-05-26T08:38:59.394223+00:00",
          "start_time": "2023-05-26T08:38:59.236419+00:00"
        }
      },
      "execution_count": null,
      "source": "# Deploy the application to Vercel\ntry:\n    response = requests.post(vercel_api_url, headers=headers, data=json.dumps(deployment_config))\n    response.raise_for_status()\n    print('Application deployed successfully.')\nexcept Exception as e:\n    print(f'Failed to deploy application: {e}')",
      "outputs": []
    },
    {
      "id": "ae0d6558-0d96-4d11-977f-b9278751fa64",
      "cell_type": "code",
      "metadata": {
        "jupyter": {
          "outputs_hidden": false,
          "source_hidden": false
        },
        "noteable": {
          "cell_type": "code",
          "output_collection_id": "0827b72f-f3c0-41bf-b4e7-e67c1fb19088"
        },
        "ExecuteTime": {
          "end_time": "2023-05-26T08:39:18.869437+00:00",
          "start_time": "2023-05-26T08:39:14.235176+00:00"
        }
      },
      "execution_count": null,
      "source": "!pip install requests",
      "outputs": []
    },
    {
      "id": "2eeb9273-c050-4776-982a-a5f74579d0fa",
      "cell_type": "code",
      "metadata": {
        "jupyter": {
          "outputs_hidden": false,
          "source_hidden": false
        },
        "noteable": {
          "cell_type": "code",
          "output_collection_id": "7dbb2a53-0990-4e7f-af65-b3ef696be10a"
        },
        "ExecuteTime": {
          "end_time": "2023-05-26T08:39:38.876911+00:00",
          "start_time": "2023-05-26T08:39:38.719913+00:00"
        }
      },
      "execution_count": null,
      "source": "# Deploy the application to Vercel\ntry:\n    response = requests.post(vercel_api_url, headers=headers, data=json.dumps(deployment_config))\n    response.raise_for_status()\n    print('Application deployed successfully.')\nexcept Exception as e:\n    print(f'Failed to deploy application: {e}')",
      "outputs": []
    }
  ]
}