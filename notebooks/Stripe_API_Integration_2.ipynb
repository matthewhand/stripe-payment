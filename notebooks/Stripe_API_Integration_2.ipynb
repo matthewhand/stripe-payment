{
  "nbformat": 4,
  "nbformat_minor": 5,
  "metadata": {
    "noteable-chatgpt": {
      "create_notebook": {
        "openai_conversation_id": "feeb3173-7904-5a47-b1bb-1581e12d7f78",
        "openai_ephemeral_user_id": "d7c77d78-fd66-51c2-b57f-f214a5bb657e",
        "openai_subdivision1_iso_code": "AU-ACT"
      }
    },
    "noteable": {
      "last_transaction_id": "d7c0df7c-662c-4bf6-b832-a0ee5f057023"
    }
  },
  "cells": [
    {
      "id": "2eb72f9e-3e6c-40a2-89f4-05af24d65282",
      "cell_type": "code",
      "metadata": {
        "jupyter": {
          "outputs_hidden": false,
          "source_hidden": false
        },
        "noteable": {
          "cell_type": "code",
          "output_collection_id": "90021305-c448-411e-bb8e-f77a8debc5c9"
        },
        "ExecuteTime": {
          "end_time": "2023-05-26T07:51:34.228392+00:00",
          "start_time": "2023-05-26T07:51:28.877732+00:00"
        }
      },
      "execution_count": null,
      "source": "!pip install stripe",
      "outputs": []
    },
    {
      "id": "a8ecdbea-629c-4bf4-acba-38591ec0e823",
      "cell_type": "code",
      "metadata": {
        "jupyter": {
          "outputs_hidden": false,
          "source_hidden": false
        },
        "noteable": {
          "cell_type": "code",
          "output_collection_id": "953e2cf1-ca42-4893-8391-6bfbcfc2110a"
        },
        "ExecuteTime": {
          "end_time": "2023-05-26T07:51:41.908969+00:00",
          "start_time": "2023-05-26T07:51:41.707051+00:00"
        }
      },
      "execution_count": null,
      "source": "import os\nimport stripe\nstripe.api_key = os.getenv('STRIPE_API_KEY')",
      "outputs": []
    },
    {
      "id": "0c240a5e-7ca3-4a1d-9817-dd505ae43bbd",
      "cell_type": "code",
      "metadata": {
        "jupyter": {
          "outputs_hidden": false,
          "source_hidden": false
        },
        "noteable": {
          "cell_type": "code",
          "output_collection_id": "55e5eb19-b61f-4e0c-81d1-12d5e218594c"
        },
        "ExecuteTime": {
          "end_time": "2023-05-26T07:51:57.479784+00:00",
          "start_time": "2023-05-26T07:51:56.807416+00:00"
        }
      },
      "execution_count": null,
      "source": "product = stripe.Product.create(name='T-shirt')\nprice = stripe.Price.create(product=product.id, unit_amount=2000, currency='usd')\nproduct, price",
      "outputs": []
    },
    {
      "id": "36171e58-3645-4128-9339-b68da0070db5",
      "cell_type": "code",
      "metadata": {
        "jupyter": {
          "outputs_hidden": false,
          "source_hidden": false
        },
        "noteable": {
          "cell_type": "code",
          "output_collection_id": "ec00d6b2-0703-45db-ab85-e30fe2309c99"
        },
        "ExecuteTime": {
          "end_time": "2023-05-26T07:52:40.924539+00:00",
          "start_time": "2023-05-26T07:52:39.238893+00:00"
        }
      },
      "execution_count": null,
      "source": "session = stripe.checkout.Session.create(\n  payment_method_types=['card'],\n  line_items=[{\n    'price': price.id,\n    'quantity': 1,\n  }],\n  mode='payment',\n  success_url='https://example.com/success',\n  cancel_url='https://example.com/cancel',\n)\nsession",
      "outputs": []
    }
  ]
}