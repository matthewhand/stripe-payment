{
  "nbformat": 4,
  "nbformat_minor": 5,
  "metadata": {
    "noteable-chatgpt": {
      "create_notebook": {
        "openai_conversation_id": "feeb3173-7904-5a47-b1bb-1581e12d7f78",
        "openai_ephemeral_user_id": "d7c77d78-fd66-51c2-b57f-f214a5bb657e",
        "openai_subdivision1_iso_code": "AU-ACT"
      }
    },
    "noteable": {
      "last_transaction_id": "920ff3ee-d6bc-40ac-811e-bb9ad7da807b"
    },
    "selected_hardware_size": "small"
  },
  "cells": [
    {
      "id": "8c4ea29a-2016-40ca-b68d-d4387415a545",
      "cell_type": "code",
      "metadata": {
        "jupyter": {
          "outputs_hidden": false,
          "source_hidden": false
        },
        "noteable": {
          "cell_type": "code"
        }
      },
      "execution_count": null,
      "source": "",
      "outputs": []
    },
    {
      "id": "7ce372ef-08e9-4322-b17f-c42f05690f4e",
      "cell_type": "markdown",
      "source": "## Deploying to Vercel\n\nIn this notebook, we will deploy our Next.js application to Vercel using the Vercel REST API. We will follow these steps:\n\n1. **Create a Deployment:** We will create a deployment by making an HTTP POST request to the `/v12/now/deployments` endpoint of the Vercel API. The body of the request will include all the files we want to deploy. We will need to generate a SHA for each file and upload it using the Vercel API.\n\n2. **Add Environment Variables:** After creating the deployment, we will add our environment variables (like the Stripe API key) to the deployment. We will do this by making an HTTP PATCH request to the `/v5/projects/{projectId}/env` endpoint of the Vercel API. The body of the request will include the names and values of the environment variables.\n\n3. **Assign a Domain:** Once the deployment is created and the environment variables are set, we will assign a domain to our deployment. We will do this by making an HTTP POST request to the `/v4/domains/{domain}/records` endpoint of the Vercel API. The body of the request will include the name of the domain we want to assign.\n\n4. **Check the Deployment Status:** After assigning the domain, we will check the status of our deployment by making an HTTP GET request to the `/v12/now/deployments/{deploymentId}` endpoint of the Vercel API. The response will include information about the deployment, including its status.\n\nLet's start by importing the necessary Python libraries.",
      "metadata": {
        "jupyter": {
          "outputs_hidden": false,
          "source_hidden": false
        },
        "noteable": {
          "cell_type": "markdown"
        }
      }
    },
    {
      "id": "ad154ad8-2585-4748-affc-4055032ff535",
      "cell_type": "code",
      "metadata": {
        "jupyter": {
          "outputs_hidden": false,
          "source_hidden": false
        },
        "noteable": {
          "cell_type": "code",
          "output_collection_id": "8bb7dc32-35a0-4739-8cb0-a78cda315746"
        },
        "ExecuteTime": {
          "end_time": "2023-05-26T09:05:28.266457+00:00",
          "start_time": "2023-05-26T09:05:28.109229+00:00"
        }
      },
      "execution_count": null,
      "source": "import os\nimport requests\nimport json\nfrom getpass import getpass",
      "outputs": []
    },
    {
      "id": "6a23b698-0bfd-45a7-80d4-17c5f0e8b547",
      "cell_type": "markdown",
      "source": "## Step 1: Create a Deployment\n\nWe will start by creating a deployment. To do this, we will make an HTTP POST request to the `/v12/now/deployments` endpoint of the Vercel API. The body of the request will include all the files we want to deploy.\n\nFirst, let's define the URL of the endpoint and the headers of our request. We will need to provide our Vercel API key in the `Authorization` header.",
      "metadata": {
        "jupyter": {
          "outputs_hidden": false,
          "source_hidden": false
        },
        "noteable": {
          "cell_type": "markdown"
        }
      }
    },
    {
      "id": "fdc9720f-d010-4929-94a2-d69c11021a36",
      "cell_type": "code",
      "metadata": {
        "jupyter": {
          "outputs_hidden": false,
          "source_hidden": false
        },
        "noteable": {
          "cell_type": "code",
          "output_collection_id": "41f91c34-694a-44b2-aefb-a50680583462"
        },
        "ExecuteTime": {
          "end_time": "2023-05-26T09:06:23.151694+00:00",
          "start_time": "2023-05-26T09:06:22.995851+00:00"
        }
      },
      "execution_count": null,
      "source": "VERCEL_API_KEY = os.getenv('VERCEL_API_KEY')\n\nurl = 'https://api.vercel.com/v12/now/deployments'\nheaders = {\n    'Authorization': f'Bearer {VERCEL_API_KEY}',\n    'Content-Type': 'application/json'\n}",
      "outputs": []
    },
    {
      "id": "10ba1f1a-c84d-48b2-8751-2dccc29289ee",
      "cell_type": "markdown",
      "source": "Next, we need to prepare the body of our request. The body should include all the files we want to deploy. Each file should be represented as a dictionary with two keys: `file` and `data`. The `file` key should have the path of the file as its value, and the `data` key should have the content of the file as its value.\n\nLet's define a function that takes a list of file paths and returns the body of our request.",
      "metadata": {
        "jupyter": {
          "outputs_hidden": false,
          "source_hidden": false
        },
        "noteable": {
          "cell_type": "markdown"
        }
      }
    },
    {
      "id": "94644548-0463-4ca9-b37d-5e0d77bca1f7",
      "cell_type": "code",
      "metadata": {
        "jupyter": {
          "outputs_hidden": false,
          "source_hidden": false
        },
        "noteable": {
          "cell_type": "code",
          "output_collection_id": "127e7c83-a8e4-44c2-8f3c-2a22fa42a1bf"
        },
        "ExecuteTime": {
          "end_time": "2023-05-26T09:07:16.631547+00:00",
          "start_time": "2023-05-26T09:07:16.475058+00:00"
        }
      },
      "execution_count": null,
      "source": "def prepare_body(file_paths):\n    files = []\n    for file_path in file_paths:\n        with open(file_path, 'r') as file:\n            data = file.read()\n        files.append({'file': file_path, 'data': data})\n    return {'files': files}",
      "outputs": []
    },
    {
      "id": "a62a9d85-f595-4136-877b-6c79305e4493",
      "cell_type": "markdown",
      "source": "Now, let's use this function to prepare the body of our request. We will deploy the `README.md` file and the `human_ai_conflict.png` image file. We need to specify the paths of these files relative to the root directory of our project.",
      "metadata": {
        "jupyter": {
          "outputs_hidden": false,
          "source_hidden": false
        },
        "noteable": {
          "cell_type": "markdown"
        }
      }
    },
    {
      "id": "74613488-746f-409b-b0af-a57f177d2edf",
      "cell_type": "code",
      "metadata": {
        "jupyter": {
          "outputs_hidden": false,
          "source_hidden": false
        },
        "noteable": {
          "cell_type": "code",
          "output_collection_id": "876be1cb-969c-40d8-a44d-a2806287f553"
        },
        "ExecuteTime": {
          "end_time": "2023-05-26T09:07:58.251167+00:00",
          "start_time": "2023-05-26T09:07:57.492710+00:00"
        }
      },
      "execution_count": null,
      "source": "file_paths = ['README.md', 'human_ai_conflict.png']\nbody = prepare_body(file_paths)",
      "outputs": []
    },
    {
      "id": "a6a7571b-549c-4e3f-9868-89277d7f5dd3",
      "cell_type": "markdown",
      "source": "## Step 2: Add Environment Variables\n\nAfter creating the deployment, we need to add our environment variables to the deployment. We can do this by making an HTTP PATCH request to the `/v5/projects/{projectId}/env` endpoint of the Vercel API. The body of the request should include the names and values of the environment variables.\n\nFirst, let's define the URL of the endpoint and the headers of our request. We will need to provide our Vercel API key in the `Authorization` header.",
      "metadata": {
        "jupyter": {
          "outputs_hidden": false,
          "source_hidden": false
        },
        "noteable": {
          "cell_type": "markdown"
        }
      }
    },
    {
      "id": "9bfc2a28-9566-43ff-812a-0cf17c0d4638",
      "cell_type": "code",
      "metadata": {
        "jupyter": {
          "outputs_hidden": false,
          "source_hidden": false
        },
        "noteable": {
          "cell_type": "code",
          "output_collection_id": "c7d7183f-1619-47a1-ad0c-0ceb3d9fe7d7"
        },
        "ExecuteTime": {
          "end_time": "2023-05-26T09:10:19.206889+00:00",
          "start_time": "2023-05-26T09:10:19.050423+00:00"
        }
      },
      "execution_count": null,
      "source": "project_id = 'your-project-id'  # replace with your project ID\n\nurl = f'https://api.vercel.com/v5/projects/{project_id}/env'\nheaders = {\n    'Authorization': f'Bearer {VERCEL_API_KEY}',\n    'Content-Type': 'application/json'\n}",
      "outputs": []
    },
    {
      "id": "5c71a7a1-3323-45fc-a57d-da258d051bbb",
      "cell_type": "markdown",
      "source": "Next, we need to prepare the body of our request. The body should include the names and values of the environment variables we want to add. Each environment variable should be represented as a dictionary with three keys: `key`, `value`, and `target`. The `key` key should have the name of the variable as its value, the `value` key should have the value of the variable as its value, and the `target` key should have the target of the variable (either `production`, `preview`, or `development`) as its value.\n\nLet's define a function that takes a dictionary of environment variables and returns the body of our request.",
      "metadata": {
        "jupyter": {
          "outputs_hidden": false,
          "source_hidden": false
        },
        "noteable": {
          "cell_type": "markdown"
        }
      }
    },
    {
      "id": "8759c035-06bf-47b0-aa5e-9c579cc83f75",
      "cell_type": "code",
      "metadata": {
        "jupyter": {
          "outputs_hidden": false,
          "source_hidden": false
        },
        "noteable": {
          "cell_type": "code",
          "output_collection_id": "6cf23746-d3b8-48f1-b06b-2ceff7864022"
        },
        "ExecuteTime": {
          "end_time": "2023-05-26T09:11:14.626699+00:00",
          "start_time": "2023-05-26T09:11:14.470600+00:00"
        }
      },
      "execution_count": null,
      "source": "def prepare_body(env_vars):\n    envs = []\n    for key, value in env_vars.items():\n        envs.append({'key': key, 'value': value, 'target': 'production'})\n    return {'envs': envs}",
      "outputs": []
    },
    {
      "id": "1fa84a1a-0bef-4f38-9522-3e76491a7c18",
      "cell_type": "markdown",
      "source": "Now, let's use this function to prepare the body of our request. We will add the `STRIPE_API_KEY` environment variable to our deployment. We need to specify the value of this variable.",
      "metadata": {
        "jupyter": {
          "outputs_hidden": false,
          "source_hidden": false
        },
        "noteable": {
          "cell_type": "markdown"
        }
      }
    },
    {
      "id": "3d12bdcb-bf67-4395-9e92-7fcac8208586",
      "cell_type": "code",
      "metadata": {
        "jupyter": {
          "outputs_hidden": false,
          "source_hidden": false
        },
        "noteable": {
          "cell_type": "code",
          "output_collection_id": "9af249fd-e6f7-4f15-a625-bf28c9fe1e9a"
        },
        "ExecuteTime": {
          "end_time": "2023-05-26T09:12:00.304699+00:00",
          "start_time": "2023-05-26T09:12:00.148332+00:00"
        }
      },
      "execution_count": null,
      "source": "env_vars = {'STRIPE_API_KEY': 'your-stripe-api-key'}  # replace with your Stripe API key\nbody = prepare_body(env_vars)",
      "outputs": []
    },
    {
      "id": "3b482854-d130-4ccf-b8c5-8f7731ee280e",
      "cell_type": "markdown",
      "source": "Finally, we can make the HTTP PATCH request to add our environment variables to the deployment. We will use the `requests` library to make the request. We need to provide the URL, headers, and body of our request as arguments to the `requests.patch` function.",
      "metadata": {
        "jupyter": {
          "outputs_hidden": false,
          "source_hidden": false
        },
        "noteable": {
          "cell_type": "markdown"
        }
      }
    },
    {
      "id": "215016e1-b3e2-4662-bbdf-70a8230796a5",
      "cell_type": "code",
      "metadata": {
        "jupyter": {
          "outputs_hidden": false,
          "source_hidden": false
        },
        "noteable": {
          "cell_type": "code",
          "output_collection_id": "fc7cf6c3-dee8-4556-97a7-d19486462fdb"
        },
        "ExecuteTime": {
          "end_time": "2023-05-26T09:12:43.426755+00:00",
          "start_time": "2023-05-26T09:12:43.026085+00:00"
        }
      },
      "execution_count": null,
      "source": "import requests\n\nresponse = requests.patch(url, headers=headers, json=body)\nresponse.json()",
      "outputs": []
    },
    {
      "id": "b24f2872-1b1b-4b55-b6b6-2f96d2913f1d",
      "cell_type": "markdown",
      "source": "## Step 3: Create README.md\n\nLet's create a README.md file with a Donation button that links to the Donation product in Stripe. We will use Python's built-in file handling functions to create the file and write the markdown content to it.",
      "metadata": {
        "jupyter": {
          "outputs_hidden": false,
          "source_hidden": false
        },
        "noteable": {
          "cell_type": "markdown"
        }
      }
    },
    {
      "id": "ad36eae1-3d79-4886-94b9-b1d49e2c0ab6",
      "cell_type": "code",
      "metadata": {
        "jupyter": {
          "outputs_hidden": false,
          "source_hidden": false
        },
        "noteable": {
          "cell_type": "code"
        }
      },
      "execution_count": null,
      "source": "readme_content = \"\"\"\n# Stripe Payment Project\n\nThis project was entirely developed using ChatGPT. This is made possible because of the Noteable plugin being able to execute Python code.\n\nThe sample project we are working on is various implementations of the Stripe donation button.\n\n[![Donate Now](https://img.shields.io/badge/Donate-Now-green.svg)](https://stripe.com/checkout)\n\"\"\"\n\nwith open('README.md', 'w') as file:\n    file.write(readme_content)",
      "outputs": []
    },
    {
      "id": "6079e3f2-1c74-4cbd-ab0c-2a43acbfa0c6",
      "cell_type": "markdown",
      "source": "## Step 4: Update Payment Link\n\nWe need to update the payment link in the README.md file to match the 5.0 price on the donation product. We also need to allow the user to adjust the quantity between 1 and 100. We can do this by accessing the Stripe API using Python code.",
      "metadata": {
        "jupyter": {
          "outputs_hidden": false,
          "source_hidden": false
        },
        "noteable": {
          "cell_type": "markdown"
        }
      }
    },
    {
      "id": "442c714b-fd69-40e1-97dc-e741120322c5",
      "cell_type": "code",
      "metadata": {
        "jupyter": {
          "outputs_hidden": false,
          "source_hidden": false
        },
        "noteable": {
          "cell_type": "code"
        }
      },
      "execution_count": null,
      "source": "import stripe\n\nstripe.api_key = os.environ['STRIPE_API_KEY']\n\n# Retrieve the product\nproduct = stripe.Product.list(limit=1)['data'][0]\n\n# Retrieve the prices\nprices = stripe.Price.list(product=product['id'], limit=3)['data']\n\n# Find the price that matches 5.0\nprice_5 = next((price for price in prices if price['unit_amount'] / 100 == 5.0), None)\n\nif price_5:\n    # Update the README.md content\n    readme_content = readme_content.replace('https://stripe.com/checkout', 'https://checkout.stripe.com/pay/' + price_5['id'])\n\n    # Write the updated content back to the file\n    with open('README.md', 'w') as file:\n        file.write(readme_content)",
      "outputs": []
    },
    {
      "id": "b62d8978-7b6c-45a8-a8e8-bde285921149",
      "cell_type": "markdown",
      "source": "## Step 5: Update README.md\n\nWe need to update the README.md file to reflect the new project description. We can do this by modifying the content of the README.md file.",
      "metadata": {
        "jupyter": {
          "outputs_hidden": false,
          "source_hidden": false
        },
        "noteable": {
          "cell_type": "markdown"
        }
      }
    },
    {
      "id": "0c6f4d6d-87e6-4f40-a9ec-298be9f9cbe8",
      "cell_type": "code",
      "metadata": {
        "jupyter": {
          "outputs_hidden": false,
          "source_hidden": false
        },
        "noteable": {
          "cell_type": "code"
        }
      },
      "execution_count": null,
      "source": "readme_content = \"\"\"\n# Stripe Payment Project\n\nThis project was entirely developed using ChatGPT and the Noteable plugin. It demonstrates the following implementations:\n\n- A Stripe donation button, including the creation of the payment link via the Stripe API.\n- Deploying code to GitHub using the GitHub API.\n- Creation of a GitHub README.md that includes a generated image.\n- A NodeJS Stripe deployment to Vercel hosting via the Vercel API.\n\n[![Donate Now](https://img.shields.io/badge/Donate-Now-green.svg)](https://checkout.stripe.com/pay/\" + price_5['id'] + \")\n\"\"\"\n\nwith open('README.md', 'w') as file:\n    file.write(readme_content)",
      "outputs": []
    },
    {
      "id": "79fb7e1c-7f79-4ce4-9807-758d20f88af0",
      "cell_type": "markdown",
      "source": "## Step 6: Update README.md with New Payment Link and QR Code\n\nWe need to update the README.md file to include the new payment link and the QR code. We can do this by modifying the content of the README.md file.",
      "metadata": {
        "jupyter": {
          "outputs_hidden": false,
          "source_hidden": false
        },
        "noteable": {
          "cell_type": "markdown"
        }
      }
    },
    {
      "id": "578e2859-c3a0-469a-b9fc-bc6c38b2cb6d",
      "cell_type": "code",
      "metadata": {
        "jupyter": {
          "outputs_hidden": false,
          "source_hidden": false
        },
        "noteable": {
          "cell_type": "code",
          "output_collection_id": "9bae7a9c-41fa-4a80-bd96-4369506e8316"
        },
        "ExecuteTime": {
          "end_time": "2023-05-26T11:04:29.920357+00:00",
          "start_time": "2023-05-26T11:04:29.763485+00:00"
        }
      },
      "execution_count": null,
      "source": "readme_content = \"\"\"\n# Stripe Payment Project\n\nThis project was entirely developed using ChatGPT and the Noteable plugin. It demonstrates the following implementations:\n\n- A Stripe donation button, including the creation of the payment link via the Stripe API.\n- Deploying code to GitHub using the GitHub API.\n- Creation of a GitHub README.md that includes a generated image.\n- A NodeJS Stripe deployment to Vercel hosting via the Vercel API.\n\n[![Donate Now](https://img.shields.io/badge/Donate-Now-green.svg)](https://buy.stripe.com/00g14peASeEd7xCcMM)\n\n![QR Code](qr_00g14peASeEd7xCcMM.png)\n\"\"\"\n\nwith open('README.md', 'w') as file:\n    file.write(readme_content)",
      "outputs": []
    },
    {
      "id": "833fe923-4f49-4760-9cb8-6de2f4d602c9",
      "cell_type": "code",
      "metadata": {
        "jupyter": {
          "outputs_hidden": false,
          "source_hidden": false
        },
        "noteable": {
          "cell_type": "code",
          "output_collection_id": "edccb7b2-9b57-4c36-8b0d-a752efff0cb8"
        },
        "ExecuteTime": {
          "end_time": "2023-05-26T11:05:14.100352+00:00",
          "start_time": "2023-05-26T11:05:13.496543+00:00"
        }
      },
      "execution_count": null,
      "source": "# Push the README.md and the QR code image to the GitHub repository\n\ncommit_message = 'Updated README.md and added QR code image'\nfiles_to_commit = ['README.md', 'qr_00g14peASeEd7xCcMM.png']\n\nfor file in files_to_commit:\n    with open(file, 'rb') as f:\n        content = f.read()\n\n    # Create a blob for the file\n    blob_sha = repo.create_blob(content, 'base64')\n\n    # Add the blob to the tree\n    tree.append(github.InputGitTreeElement(path=file, mode='100644', type='blob', sha=blob_sha))\n\n# Create a new tree\ntree = repo.create_git_tree(tree)\n\n# Create a new commit\nparent = repo.get_git_commit(master_ref.object.sha)\ncommit = repo.create_git_commit(commit_message, tree, [parent])\n\n# Update the master branch to point to the new commit\nmaster_ref.edit(commit.sha)",
      "outputs": []
    },
    {
      "id": "e8f14aa6-f530-4998-a213-b94fa37ee266",
      "cell_type": "code",
      "metadata": {
        "jupyter": {
          "outputs_hidden": false,
          "source_hidden": false
        },
        "noteable": {
          "cell_type": "code",
          "output_collection_id": "753f0fe2-f886-4a9f-85e3-6df40c1d16d9"
        },
        "ExecuteTime": {
          "end_time": "2023-05-26T11:06:15.781576+00:00",
          "start_time": "2023-05-26T11:06:15.596625+00:00"
        }
      },
      "execution_count": null,
      "source": "from github import Github\n\n# First create a Github instance:\n\n# using an access token\ng = Github(os.getenv('GITHUB_TOKEN'))\n\n# Then get your repository\nrepo = g.get_user().get_repo('stripe-payment-project')\n\n# Push the README.md and the QR code image to the GitHub repository\n\ncommit_message = 'Updated README.md and added QR code image'\nfiles_to_commit = ['README.md', 'qr_00g14peASeEd7xCcMM.png']\n\ntree = []\n\nfor file in files_to_commit:\n    with open(file, 'rb') as f:\n        content = f.read()\n\n    # Create a blob for the file\n    blob_sha = repo.create_blob(content, 'base64')\n\n    # Add the blob to the tree\n    tree.append(github.InputGitTreeElement(path=file, mode='100644', type='blob', sha=blob_sha))\n\n# Create a new tree\ntree = repo.create_git_tree(tree)\n\n# Create a new commit\nparent = repo.get_git_commit(master_ref.object.sha)\ncommit = repo.create_git_commit(commit_message, tree, [parent])\n\n# Update the master branch to point to the new commit\nmaster_ref.edit(commit.sha)",
      "outputs": []
    },
    {
      "id": "ae394636-3b79-4880-a70a-9fb39cf4949c",
      "cell_type": "code",
      "metadata": {
        "jupyter": {
          "outputs_hidden": false,
          "source_hidden": false
        },
        "noteable": {
          "cell_type": "code",
          "output_collection_id": "29333b18-64ca-4b61-9839-df42838691a2"
        },
        "ExecuteTime": {
          "end_time": "2023-05-26T11:06:49.051717+00:00",
          "start_time": "2023-05-26T11:06:43.764536+00:00"
        }
      },
      "execution_count": null,
      "source": "!pip install PyGithub",
      "outputs": []
    },
    {
      "id": "22a7d809-3a65-42a6-b46f-cc442912c456",
      "cell_type": "markdown",
      "source": "## Step 7: Update README.md with TODO and Quote\n\nWe need to update the README.md file to include the TODO for Vercel deployment and a quote. We can do this by modifying the content of the README.md file.",
      "metadata": {
        "jupyter": {
          "outputs_hidden": false,
          "source_hidden": false
        },
        "noteable": {
          "cell_type": "markdown"
        }
      }
    },
    {
      "id": "63c60b22-5f38-4612-a14c-42c148eb12c6",
      "cell_type": "code",
      "metadata": {
        "jupyter": {
          "outputs_hidden": false,
          "source_hidden": false
        },
        "noteable": {
          "cell_type": "code",
          "output_collection_id": "3fe7caba-03d0-4640-a5ca-41c2063e2889"
        },
        "ExecuteTime": {
          "end_time": "2023-05-26T11:07:58.298845+00:00",
          "start_time": "2023-05-26T11:07:58.142358+00:00"
        }
      },
      "execution_count": null,
      "source": "readme_content = \"\"\"\n# Stripe Payment Project\n\nThis project was entirely developed using ChatGPT and the Noteable plugin. It demonstrates the following implementations:\n\n- A Stripe donation button, including the creation of the payment link via the Stripe API.\n- Deploying code to GitHub using the GitHub API.\n- Creation of a GitHub README.md that includes a generated image.\n- A NodeJS Stripe deployment to Vercel hosting via the Vercel API.\n\nTODO: Vercel deployment\n\n\"Imagination is not what we think, it is how we think\" -- Unknown\n\n[![Donate Now](https://img.shields.io/badge/Donate-Now-green.svg)](https://buy.stripe.com/00g14peASeEd7xCcMM)\n\n![QR Code](qr_00g14peASeEd7xCcMM.png)\n\"\"\"\n\nwith open('README.md', 'w') as file:\n    file.write(readme_content)",
      "outputs": []
    },
    {
      "id": "404f5b45-b899-4d2e-ae1b-8f371eea635a",
      "cell_type": "markdown",
      "source": "## Step 8: Create a Subfolder on GitHub and Push Notebooks\n\nWe will create a subfolder on GitHub called 'notebooks' and write a Python script to push all local notebooks with extension .ipynb to this subfolder.",
      "metadata": {
        "jupyter": {
          "outputs_hidden": false,
          "source_hidden": false
        },
        "noteable": {
          "cell_type": "markdown"
        }
      }
    },
    {
      "id": "c8e2709c-90f4-417e-bbd4-f03c19dc691d",
      "cell_type": "code",
      "metadata": {
        "jupyter": {
          "outputs_hidden": false,
          "source_hidden": false
        },
        "noteable": {
          "cell_type": "code",
          "output_collection_id": "6ab1b01b-d1d7-4822-b5b0-dda9d6c5e24d"
        },
        "ExecuteTime": {
          "end_time": "2023-05-26T11:09:17.004253+00:00",
          "start_time": "2023-05-26T11:09:16.814394+00:00"
        }
      },
      "execution_count": null,
      "source": "import os\nimport glob\n\n# Get all .ipynb files in the current directory\nnotebooks = glob.glob('*.ipynb')\n\n# Create a new tree element for the 'notebooks' directory\ntree.append(github.InputGitTreeElement(path='notebooks', mode='040000', type='tree'))\n\n# For each notebook, create a blob and add it to the tree\nfor notebook in notebooks:\n    with open(notebook, 'rb') as f:\n        content = f.read()\n\n    # Create a blob for the notebook\n    blob_sha = repo.create_blob(content, 'base64')\n\n    # Add the blob to the tree\n    tree.append(github.InputGitTreeElement(path='notebooks/' + notebook, mode='100644', type='blob', sha=blob_sha))\n\n# Create a new tree\ntree = repo.create_git_tree(tree)\n\n# Create a new commit\nparent = repo.get_git_commit(master_ref.object.sha)\ncommit = repo.create_git_commit('Added notebooks', tree, [parent])\n\n# Update the master branch to point to the new commit\nmaster_ref.edit(commit.sha)",
      "outputs": []
    },
    {
      "id": "6602c359-0919-4b5d-92c0-5c8483068c4c",
      "cell_type": "code",
      "metadata": {
        "jupyter": {
          "outputs_hidden": false,
          "source_hidden": false
        },
        "noteable": {
          "cell_type": "code",
          "output_collection_id": "fc11308e-85c1-4bb8-869f-918e935cc4e4"
        },
        "ExecuteTime": {
          "end_time": "2023-05-26T11:10:14.249144+00:00",
          "start_time": "2023-05-26T11:10:14.063179+00:00"
        }
      },
      "execution_count": null,
      "source": "import os\nimport glob\n\n# Get all .ipynb files in the current directory\nnotebooks = glob.glob('*.ipynb')\n\n# Get the current tree of the repository\ntree = repo.get_git_tree(master_ref.object.sha)\n\n# Create a new tree element for the 'notebooks' directory\ntree = tree.tree + [github.InputGitTreeElement(path='notebooks', mode='040000', type='tree')]\n\n# For each notebook, create a blob and add it to the tree\nfor notebook in notebooks:\n    with open(notebook, 'rb') as f:\n        content = f.read()\n\n    # Create a blob for the notebook\n    blob_sha = repo.create_blob(content, 'base64')\n\n    # Add the blob to the tree\n    tree = tree + [github.InputGitTreeElement(path='notebooks/' + notebook, mode='100644', type='blob', sha=blob_sha)]\n\n# Create a new tree\ntree = repo.create_git_tree(tree)\n\n# Create a new commit\nparent = repo.get_git_commit(master_ref.object.sha)\ncommit = repo.create_git_commit('Added notebooks', tree, [parent])\n\n# Update the master branch to point to the new commit\nmaster_ref.edit(commit.sha)",
      "outputs": []
    },
    {
      "id": "e53effe3-5da4-4cd5-88ea-ed70f7d47aab",
      "cell_type": "code",
      "metadata": {
        "jupyter": {
          "outputs_hidden": false,
          "source_hidden": false
        },
        "noteable": {
          "cell_type": "code",
          "output_collection_id": "4dea9823-9eb6-4a88-8d70-273a24371c4f"
        },
        "ExecuteTime": {
          "end_time": "2023-05-26T11:11:27.872510+00:00",
          "start_time": "2023-05-26T11:11:27.260171+00:00"
        }
      },
      "execution_count": null,
      "source": "from github import Github\n\n# First create a Github instance:\n\n# using an access token\ng = Github(os.getenv('GITHUB_TOKEN'))\n\n# Then get your repository\nrepo = g.get_user().get_repo('stripe-payment-project')\n\n# Get the master branch reference\nmaster_ref = repo.get_git_ref('heads/master')\n\nimport os\nimport glob\n\n# Get all .ipynb files in the current directory\nnotebooks = glob.glob('*.ipynb')\n\n# Get the current tree of the repository\ntree = repo.get_git_tree(master_ref.object.sha)\n\n# Create a new tree element for the 'notebooks' directory\ntree = tree.tree + [github.InputGitTreeElement(path='notebooks', mode='040000', type='tree')]\n\n# For each notebook, create a blob and add it to the tree\nfor notebook in notebooks:\n    with open(notebook, 'rb') as f:\n        content = f.read()\n\n    # Create a blob for the notebook\n    blob_sha = repo.create_blob(content, 'base64')\n\n    # Add the blob to the tree\n    tree = tree + [github.InputGitTreeElement(path='notebooks/' + notebook, mode='100644', type='blob', sha=blob_sha)]\n\n# Create a new tree\ntree = repo.create_git_tree(tree)\n\n# Create a new commit\nparent = repo.get_git_commit(master_ref.object.sha)\ncommit = repo.create_git_commit('Added notebooks', tree, [parent])\n\n# Update the master branch to point to the new commit\nmaster_ref.edit(commit.sha)",
      "outputs": []
    },
    {
      "id": "e930ca38-e44e-4cb7-9d2f-6eecb57d4a60",
      "cell_type": "code",
      "metadata": {
        "jupyter": {
          "outputs_hidden": false,
          "source_hidden": false
        },
        "noteable": {
          "cell_type": "code",
          "output_collection_id": "298b5c32-b7fe-4c55-9672-2af2808724ae"
        },
        "ExecuteTime": {
          "end_time": "2023-05-26T11:13:13.171863+00:00",
          "start_time": "2023-05-26T11:13:12.261073+00:00"
        }
      },
      "execution_count": null,
      "source": "from github import Github\n\n# First create a Github instance:\n\n# using an access token\ng = Github(os.getenv('GITHUB_TOKEN'))\n\n# Then get your repository\nrepo = g.get_user().get_repo('stripe-payment')\n\n# Get the master branch reference\nmaster_ref = repo.get_git_ref('heads/master')\n\nimport os\nimport glob\n\n# Get all .ipynb files in the current directory\nnotebooks = glob.glob('*.ipynb')\n\n# Get the current tree of the repository\ntree = repo.get_git_tree(master_ref.object.sha)\n\n# Create a new tree element for the 'notebooks' directory\ntree = tree.tree + [github.InputGitTreeElement(path='notebooks', mode='040000', type='tree')]\n\n# For each notebook, create a blob and add it to the tree\nfor notebook in notebooks:\n    with open(notebook, 'rb') as f:\n        content = f.read()\n\n    # Create a blob for the notebook\n    blob_sha = repo.create_blob(content, 'base64')\n\n    # Add the blob to the tree\n    tree = tree + [github.InputGitTreeElement(path='notebooks/' + notebook, mode='100644', type='blob', sha=blob_sha)]\n\n# Create a new tree\ntree = repo.create_git_tree(tree)\n\n# Create a new commit\nparent = repo.get_git_commit(master_ref.object.sha)\ncommit = repo.create_git_commit('Added notebooks', tree, [parent])\n\n# Update the master branch to point to the new commit\nmaster_ref.edit(commit.sha)",
      "outputs": []
    },
    {
      "id": "a9114f82-641a-4e97-89f7-5532c62d05a8",
      "cell_type": "code",
      "metadata": {
        "jupyter": {
          "outputs_hidden": false,
          "source_hidden": false
        },
        "noteable": {
          "cell_type": "code",
          "output_collection_id": "5ecf2996-c305-4f01-91e3-e558ea8e3748"
        },
        "ExecuteTime": {
          "end_time": "2023-05-26T11:14:33.006262+00:00",
          "start_time": "2023-05-26T11:14:32.365511+00:00"
        }
      },
      "execution_count": null,
      "source": "from github import Github\n\n# First create a Github instance:\n\n# using an access token\ng = Github(os.getenv('GITHUB_TOKEN'))\n\n# Then get your repository\nrepo = g.get_user().get_repo('stripe-payment')\n\n# Get the main branch reference\nmain_ref = repo.get_git_ref('heads/main')\n\nimport os\nimport glob\n\n# Get all .ipynb files in the current directory\nnotebooks = glob.glob('*.ipynb')\n\n# Get the current tree of the repository\ntree = repo.get_git_tree(main_ref.object.sha)\n\n# Create a new tree element for the 'notebooks' directory\ntree = tree.tree + [github.InputGitTreeElement(path='notebooks', mode='040000', type='tree')]\n\n# For each notebook, create a blob and add it to the tree\nfor notebook in notebooks:\n    with open(notebook, 'rb') as f:\n        content = f.read()\n\n    # Create a blob for the notebook\n    blob_sha = repo.create_blob(content, 'base64')\n\n    # Add the blob to the tree\n    tree = tree + [github.InputGitTreeElement(path='notebooks/' + notebook, mode='100644', type='blob', sha=blob_sha)]\n\n# Create a new tree\ntree = repo.create_git_tree(tree)\n\n# Create a new commit\nparent = repo.get_git_commit(main_ref.object.sha)\ncommit = repo.create_git_commit('Added notebooks', tree, [parent])\n\n# Update the main branch to point to the new commit\nmain_ref.edit(commit.sha)",
      "outputs": []
    },
    {
      "id": "75c59e74-74e1-4aee-91ca-d8dbc803cc29",
      "cell_type": "code",
      "metadata": {
        "jupyter": {
          "outputs_hidden": false,
          "source_hidden": false
        },
        "noteable": {
          "cell_type": "code",
          "output_collection_id": "39d408ab-d7d9-4822-be8f-aac1d4929ef2"
        },
        "ExecuteTime": {
          "end_time": "2023-05-26T11:15:48.535947+00:00",
          "start_time": "2023-05-26T11:15:47.964668+00:00"
        }
      },
      "execution_count": null,
      "source": "from github import Github\n\n# First create a Github instance:\n\n# using an access token\ng = Github(os.getenv('GITHUB_TOKEN'))\n\n# Then get your repository\nrepo = g.get_user().get_repo('stripe-payment')\n\n# Get the main branch reference\nmain_ref = repo.get_git_ref('heads/main')\n\nimport os\nimport glob\n\n# Get all .ipynb files in the current directory\nnotebooks = glob.glob('*.ipynb')\n\n# Get the current tree of the repository\ntree = repo.get_git_tree(main_ref.object.sha)\n\n# Create a new tree element for the 'notebooks' directory\ntree = tree.tree + [Github.InputGitTreeElement(path='notebooks', mode='040000', type='tree')]\n\n# For each notebook, create a blob and add it to the tree\nfor notebook in notebooks:\n    with open(notebook, 'rb') as f:\n        content = f.read()\n\n    # Create a blob for the notebook\n    blob_sha = repo.create_blob(content, 'base64')\n\n    # Add the blob to the tree\n    tree = tree + [Github.InputGitTreeElement(path='notebooks/' + notebook, mode='100644', type='blob', sha=blob_sha)]\n\n# Create a new tree\ntree = repo.create_git_tree(tree)\n\n# Create a new commit\nparent = repo.get_git_commit(main_ref.object.sha)\ncommit = repo.create_git_commit('Added notebooks', tree, [parent])\n\n# Update the main branch to point to the new commit\nmain_ref.edit(commit.sha)",
      "outputs": []
    },
    {
      "id": "56a6edeb-c306-42a0-bdc5-6b9632c5ee2a",
      "cell_type": "code",
      "metadata": {
        "jupyter": {
          "outputs_hidden": false,
          "source_hidden": false
        },
        "noteable": {
          "cell_type": "code"
        }
      },
      "execution_count": null,
      "source": "from github import Github, InputGitTreeElement\n\n# First create a Github instance:\n\n# using an access token\ng = Github(os.getenv('GITHUB_TOKEN'))\n\n# Then get your repository\nrepo = g.get_user().get_repo('stripe-payment')\n\n# Get the main branch reference\nmain_ref = repo.get_git_ref('heads/main')\n\nimport os\nimport glob\n\n# Get all .ipynb files in the current directory\nnotebooks = glob.glob('*.ipynb')\n\n# Get the current tree of the repository\ntree = repo.get_git_tree(main_ref.object.sha)\n\n# Create a new tree element for the 'notebooks' directory\ntree = tree.tree + [InputGitTreeElement(path='notebooks', mode='040000', type='tree')]\n\n# For each notebook, create a blob and add it to the tree\nfor notebook in notebooks:\n    with open(notebook, 'rb') as f:\n        content = f.read()\n\n    # Create a blob for the notebook\n    blob_sha = repo.create_blob(content, 'base64')\n\n    # Add the blob to the tree\n    tree = tree + [InputGitTreeElement(path='notebooks/' + notebook, mode='100644', type='blob', sha=blob_sha)]\n\n# Create a new tree\ntree = repo.create_git_tree(tree)\n\n# Create a new commit\nparent = repo.get_git_commit(main_ref.object.sha)\ncommit = repo.create_git_commit('Added notebooks', tree, [parent])\n\n# Update the main branch to point to the new commit\nmain_ref.edit(commit.sha)",
      "outputs": []
    },
    {
      "id": "e528fd48-0793-4e10-bbb8-fb792f2c8252",
      "cell_type": "code",
      "metadata": {
        "jupyter": {
          "outputs_hidden": false,
          "source_hidden": false
        },
        "noteable": {
          "cell_type": "code",
          "output_collection_id": "90d2987c-587d-4e69-85a2-eae083debbb2"
        },
        "ExecuteTime": {
          "end_time": "2023-05-26T11:18:11.472003+00:00",
          "start_time": "2023-05-26T11:18:10.945435+00:00"
        }
      },
      "execution_count": null,
      "source": "from github import Github\n\n# First create a Github instance:\n\n# using an access token\ng = Github(os.getenv('GITHUB_TOKEN'))\n\n# Then get your repository\nrepo = g.get_user().get_repo('stripe-payment')\n\n# Get the main branch reference\nmain_ref = repo.get_git_ref('heads/main')\n\nimport os\nimport glob\n\n# Get all .ipynb files in the current directory\nnotebooks = glob.glob('*.ipynb')\n\n# Get the current tree of the repository\ntree = repo.get_git_tree(main_ref.object.sha)\n\n# Create a new tree element for the 'notebooks' directory\ntree = tree.tree + [Github.InputGitTreeElement(path='notebooks', mode='040000', type='tree')]\n\n# For each notebook, create a blob and add it to the tree\nfor notebook in notebooks:\n    with open(notebook, 'rb') as f:\n        content = f.read()\n\n    # Create a blob for the notebook\n    blob_sha = repo.create_blob(content, 'base64')\n\n    # Add the blob to the tree\n    tree = tree + [Github.InputGitTreeElement(path='notebooks/' + notebook, mode='100644', type='blob', sha=blob_sha)]\n\n# Create a new tree\ntree = repo.create_git_tree(tree)\n\n# Create a new commit\nparent = repo.get_git_commit(main_ref.object.sha)\ncommit = repo.create_git_commit('Added notebooks', tree, [parent])\n\n# Update the main branch to point to the new commit\nmain_ref.edit(commit.sha)",
      "outputs": []
    },
    {
      "id": "835ee228-ead0-4f11-9b40-0b86c70d4ad7",
      "cell_type": "code",
      "metadata": {
        "jupyter": {
          "outputs_hidden": false,
          "source_hidden": false
        },
        "noteable": {
          "cell_type": "code",
          "output_collection_id": "c2f7dddf-dd6a-462f-8a07-8802445f7907"
        },
        "ExecuteTime": {
          "end_time": "2023-05-26T11:19:30.356883+00:00",
          "start_time": "2023-05-26T11:19:29.813842+00:00"
        }
      },
      "execution_count": null,
      "source": "from github import Github, InputGitTreeElement\n\n# First create a Github instance:\n\n# using an access token\ng = Github(os.getenv('GITHUB_TOKEN'))\n\n# Then get your repository\nrepo = g.get_user().get_repo('stripe-payment')\n\n# Get the main branch reference\nmain_ref = repo.get_git_ref('heads/main')\n\nimport os\nimport glob\n\n# Get all .ipynb files in the current directory\nnotebooks = glob.glob('*.ipynb')\n\n# Get the current tree of the repository\ntree = repo.get_git_tree(main_ref.object.sha)\n\n# Create a new tree element for the 'notebooks' directory\ntree = tree.tree + [InputGitTreeElement(path='notebooks', mode='040000', type='tree')]\n\n# For each notebook, create a blob and add it to the tree\nfor notebook in notebooks:\n    with open(notebook, 'rb') as f:\n        content = f.read()\n\n    # Create a blob for the notebook\n    blob_sha = repo.create_blob(content, 'base64')\n\n    # Add the blob to the tree\n    tree = tree + [InputGitTreeElement(path='notebooks/' + notebook, mode='100644', type='blob', sha=blob_sha)]\n\n# Create a new tree\ntree = repo.create_git_tree(tree)\n\n# Create a new commit\nparent = repo.get_git_commit(main_ref.object.sha)\ncommit = repo.create_git_commit('Added notebooks', tree, [parent])\n\n# Update the main branch to point to the new commit\nmain_ref.edit(commit.sha)",
      "outputs": []
    },
    {
      "id": "d826e1db-fb22-4404-934e-c950756a9a80",
      "cell_type": "code",
      "metadata": {
        "jupyter": {
          "outputs_hidden": false,
          "source_hidden": false
        },
        "noteable": {
          "cell_type": "code",
          "output_collection_id": "fd36505b-610d-4de2-b7f7-94053c5a3f4b"
        },
        "ExecuteTime": {
          "end_time": "2023-05-26T11:20:42.788938+00:00",
          "start_time": "2023-05-26T11:20:42.242424+00:00"
        }
      },
      "execution_count": null,
      "source": "from github import Github, InputGitTreeElement\n\n# First create a Github instance:\n\n# using an access token\ng = Github(os.getenv('GITHUB_TOKEN'))\n\n# Then get your repository\nrepo = g.get_user().get_repo('stripe-payment')\n\n# Get the main branch reference\nmain_ref = repo.get_git_ref('heads/main')\n\nimport os\nimport glob\n\n# Get all .ipynb files in the current directory\nnotebooks = glob.glob('*.ipynb')\n\n# Get the current tree of the repository\ntree = repo.get_git_tree(main_ref.object.sha)\n\n# Create a new tree element for the 'notebooks' directory\ntree = tree.tree + [InputGitTreeElement(path='notebooks', mode='040000', type='tree')]\n\n# For each notebook, create a blob and add it to the tree\nfor notebook in notebooks:\n    with open(notebook, 'rb') as f:\n        content = f.read()\n\n    # Create a blob for the notebook\n    blob_sha = repo.create_git_blob(content, 'base64')\n\n    # Add the blob to the tree\n    tree = tree + [InputGitTreeElement(path='notebooks/' + notebook, mode='100644', type='blob', sha=blob_sha)]\n\n# Create a new tree\ntree = repo.create_git_tree(tree)\n\n# Create a new commit\nparent = repo.get_git_commit(main_ref.object.sha)\ncommit = repo.create_git_commit('Added notebooks', tree, [parent])\n\n# Update the main branch to point to the new commit\nmain_ref.edit(commit.sha)",
      "outputs": []
    }
  ]
}