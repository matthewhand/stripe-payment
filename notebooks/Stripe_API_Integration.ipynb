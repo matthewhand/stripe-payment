{
  "nbformat": 4,
  "nbformat_minor": 5,
  "metadata": {
    "noteable-chatgpt": {
      "create_notebook": {
        "openai_conversation_id": "feeb3173-7904-5a47-b1bb-1581e12d7f78",
        "openai_ephemeral_user_id": "d7c77d78-fd66-51c2-b57f-f214a5bb657e",
        "openai_subdivision1_iso_code": "AU-ACT"
      }
    },
    "noteable": {
      "last_transaction_id": "1ece999d-a2da-41ec-95e7-cfeb7d6c13a2"
    },
    "selected_hardware_size": "small"
  },
  "cells": [
    {
      "id": "db9821a4-7ad5-4804-9715-120e359be39f",
      "cell_type": "code",
      "metadata": {
        "jupyter": {
          "outputs_hidden": false,
          "source_hidden": false
        },
        "noteable": {
          "cell_type": "code"
        }
      },
      "execution_count": null,
      "source": "",
      "outputs": []
    },
    {
      "id": "aad4d4b7-76e4-4bd5-968e-7d4d88885d40",
      "cell_type": "code",
      "metadata": {
        "jupyter": {
          "outputs_hidden": false,
          "source_hidden": false
        },
        "noteable": {
          "cell_type": "code",
          "output_collection_id": "db2ef944-098e-4970-95ff-0f5fc6d26bbe"
        },
        "ExecuteTime": {
          "end_time": "2023-05-26T07:32:03.279798+00:00",
          "start_time": "2023-05-26T07:31:58.447039+00:00"
        }
      },
      "execution_count": null,
      "source": "!pip install stripe",
      "outputs": []
    },
    {
      "id": "33ccb223-e5fa-453f-9f32-cc51755b86ec",
      "cell_type": "code",
      "metadata": {
        "jupyter": {
          "outputs_hidden": false,
          "source_hidden": false
        },
        "noteable": {
          "cell_type": "code",
          "output_collection_id": "1e3fbf62-fd3c-48e7-a782-5e3b9bdcace3"
        },
        "ExecuteTime": {
          "end_time": "2023-05-26T07:32:40.236571+00:00",
          "start_time": "2023-05-26T07:32:40.043101+00:00"
        }
      },
      "execution_count": null,
      "source": "import os\nimport stripe\nstripe.api_key = os.getenv('STRIPE_API_KEY')",
      "outputs": []
    },
    {
      "id": "ac3960c9-ba96-4ab5-bc79-a22dc2170788",
      "cell_type": "code",
      "metadata": {
        "jupyter": {
          "outputs_hidden": false,
          "source_hidden": false
        },
        "noteable": {
          "cell_type": "code",
          "output_collection_id": "3c85a93f-277d-4ccf-b634-f5134687f112"
        },
        "ExecuteTime": {
          "end_time": "2023-05-26T07:32:51.487444+00:00",
          "start_time": "2023-05-26T07:32:51.332138+00:00"
        }
      },
      "execution_count": null,
      "source": "import os\nimport stripe\nstripe.api_key = os.getenv('STRIPE_API_KEY')",
      "outputs": []
    },
    {
      "id": "af815827-0427-47bc-bd40-8900ac904285",
      "cell_type": "code",
      "metadata": {
        "jupyter": {
          "outputs_hidden": false,
          "source_hidden": false
        },
        "noteable": {
          "cell_type": "code",
          "output_collection_id": "2eb90fbd-c07d-4aca-95a1-e0a9a5727084"
        },
        "ExecuteTime": {
          "end_time": "2023-05-26T07:33:25.042778+00:00",
          "start_time": "2023-05-26T07:33:24.327089+00:00"
        }
      },
      "execution_count": null,
      "source": "product = stripe.Product.create(name='T-shirt')\nprice = stripe.Price.create(product=product.id, unit_amount=2000, currency='usd')\nproduct, price",
      "outputs": []
    },
    {
      "id": "1935cb66-89b1-4855-b328-17ae96dc7367",
      "cell_type": "markdown",
      "source": "Before proceeding with the Stripe API, it's important to register on Stripe and obtain your API keys. The API keys can be found in your Stripe Dashboard. The secret key, which begins with 'sk_live_' or 'sk_test_', should be set as the 'STRIPE_API_KEY' environment variable in your Noteable environment.",
      "metadata": {
        "jupyter": {
          "outputs_hidden": false,
          "source_hidden": false
        },
        "noteable": {
          "cell_type": "markdown"
        }
      }
    },
    {
      "id": "74368a32-50bf-4cd5-87df-4b4966606af7",
      "cell_type": "code",
      "metadata": {
        "jupyter": {
          "outputs_hidden": false,
          "source_hidden": false
        },
        "noteable": {
          "cell_type": "code",
          "output_collection_id": "4062478d-f0af-4528-ac3f-d105aaad6658"
        },
        "ExecuteTime": {
          "end_time": "2023-05-26T07:50:07.278318+00:00",
          "start_time": "2023-05-26T07:50:07.055864+00:00"
        }
      },
      "execution_count": null,
      "source": "product = stripe.Product.create(name='T-shirt')\nprice = stripe.Price.create(product=product.id, unit_amount=2000, currency='usd')\nproduct, price",
      "outputs": []
    }
  ]
}