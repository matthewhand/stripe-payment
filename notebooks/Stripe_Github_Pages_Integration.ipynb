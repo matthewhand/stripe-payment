{
  "nbformat": 4,
  "nbformat_minor": 5,
  "metadata": {
    "noteable-chatgpt": {
      "create_notebook": {
        "openai_conversation_id": "feeb3173-7904-5a47-b1bb-1581e12d7f78",
        "openai_ephemeral_user_id": "d7c77d78-fd66-51c2-b57f-f214a5bb657e",
        "openai_subdivision1_iso_code": "AU-ACT"
      }
    },
    "noteable": {
      "last_transaction_id": "bf30a2d0-ae56-41d2-a628-1414c5bc5ff2"
    }
  },
  "cells": [
    {
      "id": "68e2e6f8-0c44-433c-a3c5-bb0879538d53",
      "cell_type": "markdown",
      "source": "In this notebook, we will set up a Stripe Checkout sample on GitHub Pages. This sample demonstrates a client-only (server-free) donation payment page. We will replace the necessary parameters with our own, such as the Stripe API key and product details, and update the success and cancel URLs.",
      "metadata": {
        "jupyter": {
          "outputs_hidden": false,
          "source_hidden": false
        },
        "noteable": {
          "cell_type": "markdown"
        }
      }
    },
    {
      "id": "784eddd7-04d6-4e4f-ac35-74074423773d",
      "cell_type": "code",
      "metadata": {
        "jupyter": {
          "outputs_hidden": false,
          "source_hidden": false
        },
        "noteable": {
          "cell_type": "code",
          "output_collection_id": "73f986c1-7111-42cf-b9f8-8cc850d3c870"
        },
        "ExecuteTime": {
          "end_time": "2023-05-26T07:59:30.347247+00:00",
          "start_time": "2023-05-26T07:59:25.419114+00:00"
        }
      },
      "execution_count": null,
      "source": "!pip install PyGithub",
      "outputs": []
    },
    {
      "id": "942075af-444c-40f8-a9b0-5cb9333f1dcf",
      "cell_type": "code",
      "metadata": {
        "jupyter": {
          "outputs_hidden": false,
          "source_hidden": false
        },
        "noteable": {
          "cell_type": "code"
        }
      },
      "execution_count": null,
      "source": "from github import Github\nimport os\n\n# First create a Github instance:\ng = Github(os.environ['GITHUB_TOKEN'])\n\n# Then get the specific repo\nrepo = g.get_repo('matthewhand/stripe-payment')\n\n# Get the README.md file\nfile = repo.get_contents('README.md', ref='main')\n\n# Delete the file\nrepo.delete_file(file.path, 'Delete README', file.sha, branch='main')\n\n# Verify deletion\ntry:\n    file = repo.get_contents('README.md', ref='main')\nexcept:\n    print('README.md file successfully deleted.')",
      "outputs": []
    },
    {
      "id": "2b94afe7-8bc4-4b37-b374-084bf363648d",
      "cell_type": "code",
      "metadata": {
        "jupyter": {
          "outputs_hidden": false,
          "source_hidden": false
        },
        "noteable": {
          "cell_type": "code",
          "output_collection_id": "10a7de4b-313d-4c38-8117-eba2de1dd1e7"
        },
        "ExecuteTime": {
          "end_time": "2023-05-26T08:00:28.709555+00:00",
          "start_time": "2023-05-26T08:00:27.383788+00:00"
        }
      },
      "execution_count": null,
      "source": "from github import Github\nimport os\n\n# First create a Github instance:\ng = Github(os.environ['GITHUB_TOKEN'])\n\n# Then get the specific repo\nrepo = g.get_repo('matthewhand/stripe-payment')\n\n# Get the README.md file\nfile = repo.get_contents('README.md', ref='main')\n\n# Delete the file\nrepo.delete_file(file.path, 'Delete README', file.sha, branch='main')\n\n# Verify deletion\ntry:\n    file = repo.get_contents('README.md', ref='main')\nexcept:\n    print('README.md file successfully deleted.')",
      "outputs": []
    },
    {
      "id": "0785300a-8295-4f5f-8006-0a767759a0b4",
      "cell_type": "code",
      "metadata": {
        "jupyter": {
          "outputs_hidden": false,
          "source_hidden": false
        },
        "noteable": {
          "cell_type": "code",
          "output_collection_id": "5ac13692-3a05-489d-ae52-70cb4dbd9d52"
        },
        "ExecuteTime": {
          "end_time": "2023-05-26T08:02:29.789569+00:00",
          "start_time": "2023-05-26T08:02:29.230026+00:00"
        }
      },
      "execution_count": null,
      "source": "# Define the new content\nnew_content = \"\"\"\n<!DOCTYPE html>\n<html>\n<body>\n\n<h2>Stripe Payment</h2>\n\n<p>Click the \"Donate Now\" button below to make a donation:</p>\n\n<form action=\"https://checkout.stripe.com/pay\" method=\"POST\">\n  <script\n    src=\"https://checkout.stripe.com/checkout.js\" class=\"stripe-button\"\n    data-key=\"pk_test_TYooMQauvdEDq54NiTphI7jx\"\n    data-amount=\"999\"\n    data-name=\"Stripe.com\"\n    data-description=\"Example charge\"\n    data-image=\"https://stripe.com/img/documentation/checkout/marketplace.png\"\n    data-locale=\"auto\"\n    data-zip-code=\"true\">\n  </script>\n</form>\n\n</body>\n</html>\n\"\"\"\n\n# Create the new README.md file\nrepo.create_file('README.md', 'Create README', new_content, branch='main')\n\n# Verify creation\ntry:\n    file = repo.get_contents('README.md', ref='main')\n    print('README.md file successfully created.')\nexcept:\n    print('Failed to create README.md file.')",
      "outputs": []
    },
    {
      "id": "ca55b122-e3c0-4afe-89b7-4eb0074a2665",
      "cell_type": "code",
      "metadata": {
        "jupyter": {
          "outputs_hidden": false,
          "source_hidden": false
        },
        "noteable": {
          "cell_type": "code",
          "output_collection_id": "ae87cbb3-da06-481e-84cc-70e39de4d8e4"
        },
        "ExecuteTime": {
          "end_time": "2023-05-26T08:09:50.927241+00:00",
          "start_time": "2023-05-26T08:09:45.445138+00:00"
        }
      },
      "execution_count": null,
      "source": "!pip install stripe\nimport stripe\nstripe.api_key = os.environ['STRIPE_API_KEY']\n\n# List all products to find the ID of the Donation product\nproducts = stripe.Product.list(limit=10)\nfor product in products['data']:\n    if product['name'] == 'Donation':\n        donation_product_id = product['id']\n        break\n\n# Create a Checkout Session for the Donation product\nsession = stripe.checkout.Session.create(\n  payment_method_types=['card'],\n  line_items=[{\n    'price_data': {\n      'currency': 'usd',\n      'product': donation_product_id,\n      'unit_amount': 2000,\n    },\n    'quantity': 1,\n  }],\n  mode='payment',\n  success_url='https://your-website.com/success',\n  cancel_url='https://your-website.com/cancel',\n)\n\n# Print the ID of the Checkout Session\nprint('Checkout Session ID:', session.id)",
      "outputs": []
    },
    {
      "id": "a6a32734-8cb8-4a8a-8217-450dc6033425",
      "cell_type": "code",
      "metadata": {
        "jupyter": {
          "outputs_hidden": false,
          "source_hidden": false
        },
        "noteable": {
          "cell_type": "code",
          "output_collection_id": "8213c340-715d-439f-a994-53a61f6dead3"
        },
        "ExecuteTime": {
          "end_time": "2023-05-26T08:14:39.870339+00:00",
          "start_time": "2023-05-26T08:14:39.317165+00:00"
        }
      },
      "execution_count": null,
      "source": "# Upload the image to the GitHub repo\nwith open('human_ai_conflict.png', 'rb') as file:\n    content = file.read()\nrepo.create_file('human_ai_conflict.png', 'Upload image', content, branch='main')\n\n# Verify upload\ntry:\n    file = repo.get_contents('human_ai_conflict.png', ref='main')\n    print('Image successfully uploaded.')\nexcept:\n    print('Failed to upload image.')",
      "outputs": []
    }
  ]
}