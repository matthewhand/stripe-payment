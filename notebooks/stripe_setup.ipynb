{
  "nbformat": 4,
  "nbformat_minor": 5,
  "metadata": {
    "noteable-chatgpt": {
      "create_notebook": {
        "openai_conversation_id": "feeb3173-7904-5a47-b1bb-1581e12d7f78",
        "openai_ephemeral_user_id": "d7c77d78-fd66-51c2-b57f-f214a5bb657e",
        "openai_subdivision1_iso_code": "AU-ACT"
      }
    },
    "noteable": {
      "last_transaction_id": "bbe150ea-ed45-47f8-a7b5-dfccf6f83351"
    }
  },
  "cells": [
    {
      "id": "a38ef3b5-b611-4a9b-a190-a020565001ca",
      "cell_type": "markdown",
      "source": "# Stripe Setup\n\nIn this notebook, we will be setting up a Stripe payment system following the guide provided by Vercel. The guide provides a detailed walkthrough on setting up a TypeScript project with Next.js and integrating it with Stripe for payment processing.\n\nThe key elements of the guide include:\n\n1. **Setting Up a TypeScript Project with Next.js**: This involves setting up a TypeScript project with Next.js, which is convenient as it automatically generates the tsconfig.json configuration file.\n\n2. **Managing API Keys with Next.js & Vercel**: This section discusses the importance of keeping API keys and secrets out of version control by setting them as environment variables. It provides instructions on how to add a .env.local file at the root of the project and provide the Stripe API keys.\n\n3. **Loading Stripe.js**: This part explains the PCI compliance requirements that necessitate loading the Stripe.js library from Stripe's servers. It provides a loading wrapper that allows importing Stripe.js as an ES module.\n\n4. **Creating a CheckoutSession and Redirecting to Stripe Checkout**: This section provides a detailed guide on how to create a CheckoutSession and facilitate the redirect to Stripe. It includes creating an API route and a CheckoutForm component that calls the API route to create a CheckoutSession.\n\n5. **Handling Webhooks & Checking Their Signatures**: This part discusses the importance of webhook events for getting notified about events happening on the Stripe account. It provides instructions on how to allow Stripe webhook event requests to reach the API route and how to verify the webhook event signature to ensure it was sent by Stripe.\n\n6. **Deploy with Vercel**: The final section provides instructions on how to deploy the Next.js + Stripe Checkout site with Vercel for Git. It explains how to import the project into Vercel using a Git provider of choice and how to generate Preview Deployments and Production Deployments.\n\nLet's get started!",
      "metadata": {
        "jupyter": {
          "outputs_hidden": false,
          "source_hidden": false
        },
        "noteable": {
          "cell_type": "markdown"
        }
      }
    },
    {
      "id": "a2434e2f-0c69-44fa-a4af-5a78ee8d5c80",
      "cell_type": "code",
      "metadata": {
        "jupyter": {
          "outputs_hidden": false,
          "source_hidden": false
        },
        "noteable": {
          "cell_type": "code",
          "output_collection_id": "35b30b10-d1d8-454e-b423-ca774c4bcf9f"
        },
        "ExecuteTime": {
          "end_time": "2023-05-26T08:17:57.387066+00:00",
          "start_time": "2023-05-26T08:17:56.754340+00:00"
        }
      },
      "execution_count": null,
      "source": "# Import necessary libraries\nimport stripe\nimport os\n\n# Set up Stripe API key\nstripe.api_key = os.getenv('STRIPE_API_KEY')\n\n# Verify Stripe API key\ntry:\n    stripe.Account.retrieve()\n    print('Stripe API key is valid.')\nexcept stripe.error.AuthenticationError:\n    print('Invalid Stripe API key.')",
      "outputs": []
    },
    {
      "id": "c4678f90-170e-4371-aec9-e53341465f8d",
      "cell_type": "code",
      "metadata": {
        "jupyter": {
          "outputs_hidden": false,
          "source_hidden": false
        },
        "noteable": {
          "cell_type": "code",
          "output_collection_id": "fee4095d-ab54-4eef-a5c6-f43d526512c7"
        },
        "ExecuteTime": {
          "end_time": "2023-05-26T08:18:18.743243+00:00",
          "start_time": "2023-05-26T08:18:13.562099+00:00"
        }
      },
      "execution_count": null,
      "source": "!pip install stripe",
      "outputs": []
    },
    {
      "id": "b4d062dc-23b1-4d52-bf81-12bea6464ed4",
      "cell_type": "code",
      "metadata": {
        "jupyter": {
          "outputs_hidden": false,
          "source_hidden": false
        },
        "noteable": {
          "cell_type": "code",
          "output_collection_id": "76ea0af7-225f-475f-b9f8-248186c773fa"
        },
        "ExecuteTime": {
          "end_time": "2023-05-26T08:18:43.472990+00:00",
          "start_time": "2023-05-26T08:18:42.979609+00:00"
        }
      },
      "execution_count": null,
      "source": "# Import necessary libraries\nimport stripe\nimport os\n\n# Set up Stripe API key\nstripe.api_key = os.getenv('STRIPE_API_KEY')\n\n# Verify Stripe API key\ntry:\n    stripe.Account.retrieve()\n    print('Stripe API key is valid.')\nexcept stripe.error.AuthenticationError:\n    print('Invalid Stripe API key.')",
      "outputs": []
    },
    {
      "id": "4258f3a4-205e-401d-aedc-220fcd4bca23",
      "cell_type": "code",
      "metadata": {
        "jupyter": {
          "outputs_hidden": false,
          "source_hidden": false
        },
        "noteable": {
          "cell_type": "code",
          "output_collection_id": "55232633-9bd7-4d16-afd3-68f26967966d"
        },
        "ExecuteTime": {
          "end_time": "2023-05-26T08:20:35.687927+00:00",
          "start_time": "2023-05-26T08:20:35.159626+00:00"
        }
      },
      "execution_count": null,
      "source": "# Create a Checkout Session\nsession = stripe.checkout.Session.create(\n  payment_method_types=['card'],\n  line_items=[\n    {\n      'price': 'price_1Jh1Z2Hh5q6KoBOt8t5tSOFF',\n      'quantity': 1,\n    },\n  ],\n  mode='payment',\n  success_url='https://example.com/success',\n  cancel_url='https://example.com/cancel',\n)\n\n# Verify Checkout Session\nif session.id:\n    print(f'Checkout Session created successfully. ID: {session.id}')\nelse:\n    print('Failed to create Checkout Session.')",
      "outputs": []
    },
    {
      "id": "44ec84ef-5d70-4fb1-ba4b-65ad65978cea",
      "cell_type": "code",
      "metadata": {
        "jupyter": {
          "outputs_hidden": false,
          "source_hidden": false
        },
        "noteable": {
          "cell_type": "code",
          "output_collection_id": "53c24280-7f72-4064-b583-7b78d638d6cc"
        },
        "ExecuteTime": {
          "end_time": "2023-05-26T08:21:22.102300+00:00",
          "start_time": "2023-05-26T08:21:21.622174+00:00"
        }
      },
      "execution_count": null,
      "source": "# Retrieve the list of products\nproducts = stripe.Product.list(limit=10)\n\n# Retrieve the list of prices\nprices = stripe.Price.list(limit=10)\n\n# Print the products and their prices\nfor product in products:\n    print(f'Product ID: {product.id}, Product Name: {product.name}')\n    for price in prices:\n        if price.product == product.id:\n            print(f'  Price ID: {price.id}, Price: {price.unit_amount / 100} {price.currency}')",
      "outputs": []
    },
    {
      "id": "1756e9e7-8954-469b-93d6-d33c10c296be",
      "cell_type": "code",
      "metadata": {
        "jupyter": {
          "outputs_hidden": false,
          "source_hidden": false
        },
        "noteable": {
          "cell_type": "code",
          "output_collection_id": "7fd21daf-4b16-4412-b126-7f0981c5820e"
        },
        "ExecuteTime": {
          "end_time": "2023-05-26T08:22:40.305138+00:00",
          "start_time": "2023-05-26T08:22:39.828960+00:00"
        }
      },
      "execution_count": null,
      "source": "# Create a Checkout Session with a valid price ID\nsession = stripe.checkout.Session.create(\n  payment_method_types=['card'],\n  line_items=[\n    {\n      'price': 'price_1NBvgiA0yRYMOQJJkFR9gUUd',\n      'quantity': 1,\n    },\n  ],\n  mode='payment',\n  success_url='https://example.com/success',\n  cancel_url='https://example.com/cancel',\n)\n\n# Verify Checkout Session\nif session.id:\n    print(f'Checkout Session created successfully. ID: {session.id}')\nelse:\n    print('Failed to create Checkout Session.')",
      "outputs": []
    },
    {
      "id": "c4321b58-bad9-499a-a1bb-bcfbfdb22420",
      "cell_type": "code",
      "metadata": {
        "jupyter": {
          "outputs_hidden": false,
          "source_hidden": false
        },
        "noteable": {
          "cell_type": "code",
          "output_collection_id": "88d351e5-534a-423e-8f32-18d5b64bdb7b"
        },
        "ExecuteTime": {
          "end_time": "2023-05-26T08:23:31.548464+00:00",
          "start_time": "2023-05-26T08:23:31.133062+00:00"
        }
      },
      "execution_count": null,
      "source": "# Create a one-time price for the Donation product\nprice = stripe.Price.create(\n  product='prod_NxrPgwIv40BJ7x',\n  unit_amount=100,\n  currency='aud',\n  nickname='One-time Donation',\n)\n\n# Verify price creation\nif price.id:\n    print(f'One-time price created successfully. ID: {price.id}')\nelse:\n    print('Failed to create one-time price.')",
      "outputs": []
    },
    {
      "id": "f903252e-4066-42ec-8beb-aaf5fc138ad4",
      "cell_type": "code",
      "metadata": {
        "jupyter": {
          "outputs_hidden": false,
          "source_hidden": false
        },
        "noteable": {
          "cell_type": "code",
          "output_collection_id": "8279dc15-a258-43d0-800b-ea596c4f7f29"
        },
        "ExecuteTime": {
          "end_time": "2023-05-26T08:24:18.823044+00:00",
          "start_time": "2023-05-26T08:24:18.205646+00:00"
        }
      },
      "execution_count": null,
      "source": "# Create a Checkout Session with the one-time price ID\nsession = stripe.checkout.Session.create(\n  payment_method_types=['card'],\n  line_items=[\n    {\n      'price': 'price_1NBvvrA0yRYMOQJJBGb7oYLf',\n      'quantity': 1,\n    },\n  ],\n  mode='payment',\n  success_url='https://example.com/success',\n  cancel_url='https://example.com/cancel',\n)\n\n# Verify Checkout Session\nif session.id:\n    print(f'Checkout Session created successfully. ID: {session.id}')\nelse:\n    print('Failed to create Checkout Session.')",
      "outputs": []
    },
    {
      "id": "b9fa03c1-9cec-4631-a3b9-0c095e0ff59b",
      "cell_type": "code",
      "metadata": {
        "jupyter": {
          "outputs_hidden": false,
          "source_hidden": false
        },
        "noteable": {
          "cell_type": "code",
          "output_collection_id": "bcfca931-7d14-4fbc-bc75-13faa19e08d6"
        },
        "ExecuteTime": {
          "end_time": "2023-05-26T08:25:50.494114+00:00",
          "start_time": "2023-05-26T08:25:50.311135+00:00"
        }
      },
      "execution_count": null,
      "source": "# Define the content of the README.md file\nreadme_content = '''\n# Stripe Donation System\n\nThis project was entirely developed using ChatGPT and the Noteable plugin. It demonstrates the implementation of a Stripe donation button.\n\n![Human AI Conflict](https://github.com/matthewhand/stripe-payment/blob/main/human_ai_conflict.png)\n\n## Donate Now\n\nSupport this project by making a donation. Click the button below to proceed.\n\n[![Donate Now](https://img.shields.io/badge/Donate-Now-green.svg)](https://checkout.stripe.com/pay/cs_live_a1QU12k5UWRf5ZE1XtHmyQPd809s1Uf5GAzhFcFladGz49hRdeJOWgSwjz)\n'''\n\n# Update the README.md file in the GitHub repo\nrepo.create_file('README.md', 'Update README', readme_content, branch='main')\n\n# Verify update\ntry:\n    file = repo.get_contents('README.md', ref='main')\n    print('README.md updated successfully.')\nexcept:\n    print('Failed to update README.md.')",
      "outputs": []
    },
    {
      "id": "12b768ad-ca86-4be9-a20a-f922a6a9b674",
      "cell_type": "code",
      "metadata": {
        "jupyter": {
          "outputs_hidden": false,
          "source_hidden": false
        },
        "noteable": {
          "cell_type": "code",
          "output_collection_id": "d1da5f0f-d1e0-44d0-b940-e3b6f99c2d9d"
        },
        "ExecuteTime": {
          "end_time": "2023-05-26T08:26:27.054656+00:00",
          "start_time": "2023-05-26T08:26:21.660826+00:00"
        }
      },
      "execution_count": null,
      "source": "!pip install PyGithub",
      "outputs": []
    },
    {
      "id": "b20ef4ba-b7ab-4d70-8c51-e175b0cad562",
      "cell_type": "code",
      "metadata": {
        "jupyter": {
          "outputs_hidden": false,
          "source_hidden": false
        },
        "noteable": {
          "cell_type": "code",
          "output_collection_id": "79d2e874-dafe-4c1a-855f-8a4a093df8bd"
        },
        "ExecuteTime": {
          "end_time": "2023-05-26T08:26:57.149501+00:00",
          "start_time": "2023-05-26T08:26:56.752748+00:00"
        }
      },
      "execution_count": null,
      "source": "# Import the GitHub API library\nfrom github import Github\n\n# Set up the GitHub API with your personal access token\ng = Github(os.getenv('GITHUB_TOKEN'))\n\n# Define the repo object for your GitHub repository\nrepo = g.get_repo('matthewhand/stripe-payment')\n\n# Verify setup\ntry:\n    print(f'Repo name: {repo.name}')\nexcept:\n    print('Failed to set up GitHub API.')",
      "outputs": []
    },
    {
      "id": "84b89221-c1fd-4691-a85e-2bf81a4dbc16",
      "cell_type": "code",
      "metadata": {
        "jupyter": {
          "outputs_hidden": false,
          "source_hidden": false
        },
        "noteable": {
          "cell_type": "code",
          "output_collection_id": "93d68a83-734d-4543-af15-d82136fbfc70"
        },
        "ExecuteTime": {
          "end_time": "2023-05-26T08:28:02.368387+00:00",
          "start_time": "2023-05-26T08:28:01.833788+00:00"
        }
      },
      "execution_count": null,
      "source": "# Define the content of the README.md file\nreadme_content = '''\n# Stripe Donation System\n\nThis project was entirely developed using ChatGPT and the Noteable plugin. It demonstrates the implementation of a Stripe donation button.\n\n![Human AI Conflict](https://github.com/matthewhand/stripe-payment/blob/main/human_ai_conflict.png)\n\n## Donate Now\n\nSupport this project by making a donation. Click the button below to proceed.\n\n[![Donate Now](https://img.shields.io/badge/Donate-Now-green.svg)](https://checkout.stripe.com/pay/cs_live_a1QU12k5UWRf5ZE1XtHmyQPd809s1Uf5GAzhFcFladGz49hRdeJOWgSwjz)\n'''\n\n# Update the README.md file in the GitHub repo\nrepo.create_file('README.md', 'Update README', readme_content, branch='main')\n\n# Verify update\ntry:\n    file = repo.get_contents('README.md', ref='main')\n    print('README.md updated successfully.')\nexcept:\n    print('Failed to update README.md.')",
      "outputs": []
    },
    {
      "id": "fac1b213-72b8-4a58-bdc4-87db6fd171e5",
      "cell_type": "markdown",
      "source": "## Next Steps\n\nHere's a plan of all the steps we need to do, broken down into smaller steps:\n\n1. **Set up a TypeScript project with Next.js**: This involves setting up a TypeScript project with Next.js, which is convenient as it automatically generates the tsconfig.json configuration file.\n\n2. **Manage API keys securely**: This involves adding a .env.local file at the root of the project and providing the Stripe API keys.\n\n3. **Load Stripe.js**: This involves importing Stripe.js as an ES module using a loading wrapper.\n\n4. **Create a CheckoutSession and redirect to Stripe Checkout**: This involves creating an API route and a CheckoutForm component that calls the API route to create a CheckoutSession.\n\n5. **Handle webhook events and verify their signatures**: This involves allowing Stripe webhook event requests to reach the API route and verifying the webhook event signature to ensure it was sent by Stripe.\n\n6. **Deploy the project with Vercel**: This involves importing the project into Vercel using a Git provider of choice and generating Preview Deployments and Production Deployments.\n\n7. **Update the README.md file in the GitHub repository**: This involves updating the README.md file with the donation button, a reference to the image, and some text about how this project was entirely developed using ChatGPT and the Noteable plugin.\n\n8. **Upload the image to the GitHub repository**: This involves uploading the 'human_ai_conflict.png' image to the GitHub repository.\n\n9. **Create a one-time price for the Donation product**: This involves creating a one-time price for the Donation product in the Stripe account.\n\n10. **Create a Checkout Session with the one-time price ID**: This involves creating a Checkout Session with the one-time price ID and verifying its creation.\n\n11. **Redirect the customer to the Stripe Checkout page**: This involves using the Checkout Session ID to redirect the customer to the Stripe Checkout page. This would be done in the web application, not in this notebook.",
      "metadata": {
        "jupyter": {
          "outputs_hidden": false,
          "source_hidden": false
        },
        "noteable": {
          "cell_type": "markdown"
        }
      }
    }
  ]
}